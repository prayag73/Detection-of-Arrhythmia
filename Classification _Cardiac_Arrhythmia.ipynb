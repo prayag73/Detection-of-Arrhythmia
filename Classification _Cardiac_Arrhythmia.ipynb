{
 "cells": [
  {
   "cell_type": "markdown",
   "metadata": {},
   "source": [
    "### Cardiac Arrhythmia Multi-Class Classification \n",
    "\n",
    "Analyze data and address missing data if there is any. \n",
    "\n",
    "Decide aboute a good evaluation strategy and justify your choice. \n",
    "\n",
    "Find the best parameters for the following classification models: \n",
    "- KNN classifcation \n",
    "- Logistic Regression\n",
    "- Linear Supprt Vector Machine\n",
    "- Kerenilzed Support Vector Machine\n",
    "- Decision Tree\n",
    "- Random Forest \n",
    "\n",
    "Then use different bagging and boosting methods to boost the results? Do you see any significant change? Why or why not? \n",
    "\n",
    "Next, use data reduction method you have learned in class to reduce the size of data, and agian try above models. Do you get better results? Justify your answer. \n"
   ]
  },
  {
   "cell_type": "markdown",
   "metadata": {},
   "source": [
    "## Import all the required libraries"
   ]
  },
  {
   "cell_type": "code",
   "execution_count": 151,
   "metadata": {},
   "outputs": [],
   "source": [
    "import numpy as np\n",
    "import pandas as pd\n",
    "\n",
    "import matplotlib.pyplot as plt\n",
    "\n",
    "from sklearn.model_selection import train_test_split,GridSearchCV,StratifiedKFold\n",
    "from sklearn.metrics import classification_report, roc_curve, roc_auc_score, confusion_matrix\n",
    "from sklearn.preprocessing import LabelBinarizer\n",
    "from sklearn.preprocessing import MinMaxScaler, StandardScaler\n",
    "from sklearn.metrics import roc_auc_score\n",
    "\n",
    "from sklearn.decomposition import PCA\n",
    "\n",
    "\n",
    "from sklearn import linear_model, decomposition\n",
    "from sklearn.tree import DecisionTreeClassifier\n",
    "from sklearn.svm import SVC\n",
    "from sklearn.ensemble import RandomForestClassifier, GradientBoostingClassifier, BaggingClassifier, AdaBoostClassifier\n",
    "from sklearn.neighbors import KNeighborsClassifier\n",
    "\n",
    "import warnings; warnings.simplefilter('ignore')"
   ]
  },
  {
   "cell_type": "code",
   "execution_count": 152,
   "metadata": {},
   "outputs": [
    {
     "data": {
      "text/plain": [
       "'C:\\\\Users\\\\praya\\\\Data_Science\\\\Projects\\\\Detection-of-Cardiac-Arrhythmia-master'"
      ]
     },
     "execution_count": 152,
     "metadata": {},
     "output_type": "execute_result"
    }
   ],
   "source": [
    "pwd\n"
   ]
  },
  {
   "cell_type": "markdown",
   "metadata": {},
   "source": [
    "Read the Dataset. There are no column names in the dataset"
   ]
  },
  {
   "cell_type": "code",
   "execution_count": 153,
   "metadata": {},
   "outputs": [],
   "source": [
    "df = pd.read_csv('cardiac_arrhythmia.csv', header=None, na_values=['?'])"
   ]
  },
  {
   "cell_type": "code",
   "execution_count": 156,
   "metadata": {},
   "outputs": [
    {
     "data": {
      "text/html": [
       "<div>\n",
       "<style scoped>\n",
       "    .dataframe tbody tr th:only-of-type {\n",
       "        vertical-align: middle;\n",
       "    }\n",
       "\n",
       "    .dataframe tbody tr th {\n",
       "        vertical-align: top;\n",
       "    }\n",
       "\n",
       "    .dataframe thead th {\n",
       "        text-align: right;\n",
       "    }\n",
       "</style>\n",
       "<table border=\"1\" class=\"dataframe\">\n",
       "  <thead>\n",
       "    <tr style=\"text-align: right;\">\n",
       "      <th></th>\n",
       "      <th>0</th>\n",
       "      <th>1</th>\n",
       "      <th>2</th>\n",
       "      <th>3</th>\n",
       "      <th>4</th>\n",
       "      <th>5</th>\n",
       "      <th>6</th>\n",
       "      <th>7</th>\n",
       "      <th>8</th>\n",
       "      <th>9</th>\n",
       "      <th>...</th>\n",
       "      <th>270</th>\n",
       "      <th>271</th>\n",
       "      <th>272</th>\n",
       "      <th>273</th>\n",
       "      <th>274</th>\n",
       "      <th>275</th>\n",
       "      <th>276</th>\n",
       "      <th>277</th>\n",
       "      <th>278</th>\n",
       "      <th>279</th>\n",
       "    </tr>\n",
       "  </thead>\n",
       "  <tbody>\n",
       "    <tr>\n",
       "      <th>0</th>\n",
       "      <td>75</td>\n",
       "      <td>0</td>\n",
       "      <td>190</td>\n",
       "      <td>80</td>\n",
       "      <td>91</td>\n",
       "      <td>193</td>\n",
       "      <td>371</td>\n",
       "      <td>174</td>\n",
       "      <td>121</td>\n",
       "      <td>-16</td>\n",
       "      <td>...</td>\n",
       "      <td>0.0</td>\n",
       "      <td>9.0</td>\n",
       "      <td>-0.9</td>\n",
       "      <td>0.0</td>\n",
       "      <td>0</td>\n",
       "      <td>0.9</td>\n",
       "      <td>2.9</td>\n",
       "      <td>23.3</td>\n",
       "      <td>49.4</td>\n",
       "      <td>8</td>\n",
       "    </tr>\n",
       "    <tr>\n",
       "      <th>1</th>\n",
       "      <td>56</td>\n",
       "      <td>1</td>\n",
       "      <td>165</td>\n",
       "      <td>64</td>\n",
       "      <td>81</td>\n",
       "      <td>174</td>\n",
       "      <td>401</td>\n",
       "      <td>149</td>\n",
       "      <td>39</td>\n",
       "      <td>25</td>\n",
       "      <td>...</td>\n",
       "      <td>0.0</td>\n",
       "      <td>8.5</td>\n",
       "      <td>0.0</td>\n",
       "      <td>0.0</td>\n",
       "      <td>0</td>\n",
       "      <td>0.2</td>\n",
       "      <td>2.1</td>\n",
       "      <td>20.4</td>\n",
       "      <td>38.8</td>\n",
       "      <td>6</td>\n",
       "    </tr>\n",
       "    <tr>\n",
       "      <th>2</th>\n",
       "      <td>54</td>\n",
       "      <td>0</td>\n",
       "      <td>172</td>\n",
       "      <td>95</td>\n",
       "      <td>138</td>\n",
       "      <td>163</td>\n",
       "      <td>386</td>\n",
       "      <td>185</td>\n",
       "      <td>102</td>\n",
       "      <td>96</td>\n",
       "      <td>...</td>\n",
       "      <td>0.0</td>\n",
       "      <td>9.5</td>\n",
       "      <td>-2.4</td>\n",
       "      <td>0.0</td>\n",
       "      <td>0</td>\n",
       "      <td>0.3</td>\n",
       "      <td>3.4</td>\n",
       "      <td>12.3</td>\n",
       "      <td>49.0</td>\n",
       "      <td>10</td>\n",
       "    </tr>\n",
       "    <tr>\n",
       "      <th>3</th>\n",
       "      <td>55</td>\n",
       "      <td>0</td>\n",
       "      <td>175</td>\n",
       "      <td>94</td>\n",
       "      <td>100</td>\n",
       "      <td>202</td>\n",
       "      <td>380</td>\n",
       "      <td>179</td>\n",
       "      <td>143</td>\n",
       "      <td>28</td>\n",
       "      <td>...</td>\n",
       "      <td>0.0</td>\n",
       "      <td>12.2</td>\n",
       "      <td>-2.2</td>\n",
       "      <td>0.0</td>\n",
       "      <td>0</td>\n",
       "      <td>0.4</td>\n",
       "      <td>2.6</td>\n",
       "      <td>34.6</td>\n",
       "      <td>61.6</td>\n",
       "      <td>1</td>\n",
       "    </tr>\n",
       "    <tr>\n",
       "      <th>4</th>\n",
       "      <td>75</td>\n",
       "      <td>0</td>\n",
       "      <td>190</td>\n",
       "      <td>80</td>\n",
       "      <td>88</td>\n",
       "      <td>181</td>\n",
       "      <td>360</td>\n",
       "      <td>177</td>\n",
       "      <td>103</td>\n",
       "      <td>-16</td>\n",
       "      <td>...</td>\n",
       "      <td>0.0</td>\n",
       "      <td>13.1</td>\n",
       "      <td>-3.6</td>\n",
       "      <td>0.0</td>\n",
       "      <td>0</td>\n",
       "      <td>-0.1</td>\n",
       "      <td>3.9</td>\n",
       "      <td>25.4</td>\n",
       "      <td>62.8</td>\n",
       "      <td>7</td>\n",
       "    </tr>\n",
       "  </tbody>\n",
       "</table>\n",
       "<p>5 rows × 280 columns</p>\n",
       "</div>"
      ],
      "text/plain": [
       "   0    1    2    3    4    5    6    7    8    9   ...   270   271  272  273  \\\n",
       "0   75    0  190   80   91  193  371  174  121  -16 ...   0.0   9.0 -0.9  0.0   \n",
       "1   56    1  165   64   81  174  401  149   39   25 ...   0.0   8.5  0.0  0.0   \n",
       "2   54    0  172   95  138  163  386  185  102   96 ...   0.0   9.5 -2.4  0.0   \n",
       "3   55    0  175   94  100  202  380  179  143   28 ...   0.0  12.2 -2.2  0.0   \n",
       "4   75    0  190   80   88  181  360  177  103  -16 ...   0.0  13.1 -3.6  0.0   \n",
       "\n",
       "   274  275  276   277   278  279  \n",
       "0    0  0.9  2.9  23.3  49.4    8  \n",
       "1    0  0.2  2.1  20.4  38.8    6  \n",
       "2    0  0.3  3.4  12.3  49.0   10  \n",
       "3    0  0.4  2.6  34.6  61.6    1  \n",
       "4    0 -0.1  3.9  25.4  62.8    7  \n",
       "\n",
       "[5 rows x 280 columns]"
      ]
     },
     "execution_count": 156,
     "metadata": {},
     "output_type": "execute_result"
    }
   ],
   "source": [
    "df.head()"
   ]
  },
  {
   "cell_type": "markdown",
   "metadata": {},
   "source": [
    "Created the Column names list by taking information from the metadata document"
   ]
  },
  {
   "cell_type": "code",
   "execution_count": 157,
   "metadata": {},
   "outputs": [],
   "source": [
    "column_names = [\"Age\", \"Gender\", \"Height\", \"Weight\", \"QRS_Duration\", \"PR_Interval\",\n",
    "           \"QT_Interval\",\"T_Interval\",\"P_Interval\"]\n",
    "\n",
    "for name in [\"QRS\",\"T\",\"P\",\"QRST\",\"J\"]:\n",
    "    column_names.append(\"VectorAngle_\"+name)\n",
    "    \n",
    "column_names.append(\"HeartRate\")\n",
    "\n",
    "channels = [\"DI\",\"DII\",\"DIII\",\"AVR\",\"AVL\",\"AVF\",\"V1\",\"V2\",\"V3\",\"V4\",\"V5\",\"V6\"]\n",
    "channel_specs_1 = [\"Q_Width\",\"R_Width\",\"S_Width\",\"RP_Width\",\"SP_Width\",\"Int_Deflections\",\n",
    "                 \"ExistRagR\",\"ExistDiaR\",\"ExistRagP\",\"ExistDiaP\",\"ExistRagT\",\"ExistDiaT\"]\n",
    "\n",
    "for channel in channels:\n",
    "    for spec in channel_specs_1:\n",
    "        column_names.append(channel+\"_\"+spec)\n",
    "        \n",
    "channel_specs_2 = [\"AmpJJ\",\"AmpQ\",\"AmpR\",\"AmpS\",\"AmpRP\",\"AmpSP\",\"AmpP\",\"AmpT\",\"QRSA\",\"QRSTA\"]\n",
    "\n",
    "for channel in channels:\n",
    "    for spec in channel_specs_2:\n",
    "        column_names.append(channel+\"_\"+spec)\n",
    "        \n",
    "column_names.append(\"Target\")\n",
    "\n"
   ]
  },
  {
   "cell_type": "code",
   "execution_count": 158,
   "metadata": {},
   "outputs": [],
   "source": [
    "#Seperate Nominal and Linear columns for future\n",
    "\n",
    "channels = [\"DI\",\"DII\",\"DIII\",\"AVR\",\"AVL\",\"AVF\",\"V1\",\"V2\",\"V3\",\"V4\",\"V5\",\"V6\"]\n",
    "channel_spec = [\"ExistRagR\",\"ExistDiaR\",\"ExistRagP\",\"ExistDiaP\",\"ExistRagT\",\"ExistDiaT\"]\n",
    "\n",
    "NominalCols = [\"Gender\"]\n",
    "\n",
    "for channel in channels:\n",
    "    for spec in channel_spec:\n",
    "        NominalCols.append(channel+\"_\"+spec)\n",
    "\n",
    "LinearCols = [i for i in column_names if i not in NominalCols]\n",
    "\n",
    "\n",
    "#Remove the \"Target\" column from LinearCols\n",
    "LinearCols = LinearCols[:-1] \n",
    "\n",
    "        \n"
   ]
  },
  {
   "cell_type": "markdown",
   "metadata": {},
   "source": [
    "Add Column names in the dataframe"
   ]
  },
  {
   "cell_type": "code",
   "execution_count": 159,
   "metadata": {},
   "outputs": [
    {
     "data": {
      "text/html": [
       "<div>\n",
       "<style scoped>\n",
       "    .dataframe tbody tr th:only-of-type {\n",
       "        vertical-align: middle;\n",
       "    }\n",
       "\n",
       "    .dataframe tbody tr th {\n",
       "        vertical-align: top;\n",
       "    }\n",
       "\n",
       "    .dataframe thead th {\n",
       "        text-align: right;\n",
       "    }\n",
       "</style>\n",
       "<table border=\"1\" class=\"dataframe\">\n",
       "  <thead>\n",
       "    <tr style=\"text-align: right;\">\n",
       "      <th></th>\n",
       "      <th>Age</th>\n",
       "      <th>Gender</th>\n",
       "      <th>Height</th>\n",
       "      <th>Weight</th>\n",
       "      <th>QRS_Duration</th>\n",
       "      <th>PR_Interval</th>\n",
       "      <th>QT_Interval</th>\n",
       "      <th>T_Interval</th>\n",
       "      <th>P_Interval</th>\n",
       "      <th>VectorAngle_QRS</th>\n",
       "      <th>...</th>\n",
       "      <th>V6_AmpQ</th>\n",
       "      <th>V6_AmpR</th>\n",
       "      <th>V6_AmpS</th>\n",
       "      <th>V6_AmpRP</th>\n",
       "      <th>V6_AmpSP</th>\n",
       "      <th>V6_AmpP</th>\n",
       "      <th>V6_AmpT</th>\n",
       "      <th>V6_QRSA</th>\n",
       "      <th>V6_QRSTA</th>\n",
       "      <th>Target</th>\n",
       "    </tr>\n",
       "  </thead>\n",
       "  <tbody>\n",
       "    <tr>\n",
       "      <th>0</th>\n",
       "      <td>75</td>\n",
       "      <td>0</td>\n",
       "      <td>190</td>\n",
       "      <td>80</td>\n",
       "      <td>91</td>\n",
       "      <td>193</td>\n",
       "      <td>371</td>\n",
       "      <td>174</td>\n",
       "      <td>121</td>\n",
       "      <td>-16</td>\n",
       "      <td>...</td>\n",
       "      <td>0.0</td>\n",
       "      <td>9.0</td>\n",
       "      <td>-0.9</td>\n",
       "      <td>0.0</td>\n",
       "      <td>0</td>\n",
       "      <td>0.9</td>\n",
       "      <td>2.9</td>\n",
       "      <td>23.3</td>\n",
       "      <td>49.4</td>\n",
       "      <td>8</td>\n",
       "    </tr>\n",
       "    <tr>\n",
       "      <th>1</th>\n",
       "      <td>56</td>\n",
       "      <td>1</td>\n",
       "      <td>165</td>\n",
       "      <td>64</td>\n",
       "      <td>81</td>\n",
       "      <td>174</td>\n",
       "      <td>401</td>\n",
       "      <td>149</td>\n",
       "      <td>39</td>\n",
       "      <td>25</td>\n",
       "      <td>...</td>\n",
       "      <td>0.0</td>\n",
       "      <td>8.5</td>\n",
       "      <td>0.0</td>\n",
       "      <td>0.0</td>\n",
       "      <td>0</td>\n",
       "      <td>0.2</td>\n",
       "      <td>2.1</td>\n",
       "      <td>20.4</td>\n",
       "      <td>38.8</td>\n",
       "      <td>6</td>\n",
       "    </tr>\n",
       "    <tr>\n",
       "      <th>2</th>\n",
       "      <td>54</td>\n",
       "      <td>0</td>\n",
       "      <td>172</td>\n",
       "      <td>95</td>\n",
       "      <td>138</td>\n",
       "      <td>163</td>\n",
       "      <td>386</td>\n",
       "      <td>185</td>\n",
       "      <td>102</td>\n",
       "      <td>96</td>\n",
       "      <td>...</td>\n",
       "      <td>0.0</td>\n",
       "      <td>9.5</td>\n",
       "      <td>-2.4</td>\n",
       "      <td>0.0</td>\n",
       "      <td>0</td>\n",
       "      <td>0.3</td>\n",
       "      <td>3.4</td>\n",
       "      <td>12.3</td>\n",
       "      <td>49.0</td>\n",
       "      <td>10</td>\n",
       "    </tr>\n",
       "    <tr>\n",
       "      <th>3</th>\n",
       "      <td>55</td>\n",
       "      <td>0</td>\n",
       "      <td>175</td>\n",
       "      <td>94</td>\n",
       "      <td>100</td>\n",
       "      <td>202</td>\n",
       "      <td>380</td>\n",
       "      <td>179</td>\n",
       "      <td>143</td>\n",
       "      <td>28</td>\n",
       "      <td>...</td>\n",
       "      <td>0.0</td>\n",
       "      <td>12.2</td>\n",
       "      <td>-2.2</td>\n",
       "      <td>0.0</td>\n",
       "      <td>0</td>\n",
       "      <td>0.4</td>\n",
       "      <td>2.6</td>\n",
       "      <td>34.6</td>\n",
       "      <td>61.6</td>\n",
       "      <td>1</td>\n",
       "    </tr>\n",
       "    <tr>\n",
       "      <th>4</th>\n",
       "      <td>75</td>\n",
       "      <td>0</td>\n",
       "      <td>190</td>\n",
       "      <td>80</td>\n",
       "      <td>88</td>\n",
       "      <td>181</td>\n",
       "      <td>360</td>\n",
       "      <td>177</td>\n",
       "      <td>103</td>\n",
       "      <td>-16</td>\n",
       "      <td>...</td>\n",
       "      <td>0.0</td>\n",
       "      <td>13.1</td>\n",
       "      <td>-3.6</td>\n",
       "      <td>0.0</td>\n",
       "      <td>0</td>\n",
       "      <td>-0.1</td>\n",
       "      <td>3.9</td>\n",
       "      <td>25.4</td>\n",
       "      <td>62.8</td>\n",
       "      <td>7</td>\n",
       "    </tr>\n",
       "  </tbody>\n",
       "</table>\n",
       "<p>5 rows × 280 columns</p>\n",
       "</div>"
      ],
      "text/plain": [
       "   Age  Gender  Height  Weight  QRS_Duration  PR_Interval  QT_Interval  \\\n",
       "0   75       0     190      80            91          193          371   \n",
       "1   56       1     165      64            81          174          401   \n",
       "2   54       0     172      95           138          163          386   \n",
       "3   55       0     175      94           100          202          380   \n",
       "4   75       0     190      80            88          181          360   \n",
       "\n",
       "   T_Interval  P_Interval  VectorAngle_QRS   ...    V6_AmpQ  V6_AmpR  V6_AmpS  \\\n",
       "0         174         121              -16   ...        0.0      9.0     -0.9   \n",
       "1         149          39               25   ...        0.0      8.5      0.0   \n",
       "2         185         102               96   ...        0.0      9.5     -2.4   \n",
       "3         179         143               28   ...        0.0     12.2     -2.2   \n",
       "4         177         103              -16   ...        0.0     13.1     -3.6   \n",
       "\n",
       "   V6_AmpRP  V6_AmpSP  V6_AmpP  V6_AmpT  V6_QRSA  V6_QRSTA  Target  \n",
       "0       0.0         0      0.9      2.9     23.3      49.4       8  \n",
       "1       0.0         0      0.2      2.1     20.4      38.8       6  \n",
       "2       0.0         0      0.3      3.4     12.3      49.0      10  \n",
       "3       0.0         0      0.4      2.6     34.6      61.6       1  \n",
       "4       0.0         0     -0.1      3.9     25.4      62.8       7  \n",
       "\n",
       "[5 rows x 280 columns]"
      ]
     },
     "execution_count": 159,
     "metadata": {},
     "output_type": "execute_result"
    }
   ],
   "source": [
    "df.columns = column_names\n",
    "df.head()"
   ]
  },
  {
   "cell_type": "code",
   "execution_count": 160,
   "metadata": {},
   "outputs": [
    {
     "name": "stdout",
     "output_type": "stream",
     "text": [
      "<class 'pandas.core.frame.DataFrame'>\n",
      "RangeIndex: 452 entries, 0 to 451\n",
      "Columns: 280 entries, Age to Target\n",
      "dtypes: float64(121), int64(159)\n",
      "memory usage: 988.8 KB\n"
     ]
    }
   ],
   "source": [
    "df.info()"
   ]
  },
  {
   "cell_type": "markdown",
   "metadata": {},
   "source": [
    "## Handling Missing Values"
   ]
  },
  {
   "cell_type": "code",
   "execution_count": 161,
   "metadata": {},
   "outputs": [
    {
     "data": {
      "text/plain": [
       "array([  0,   0,   0,   0,   0,   0,   0,   0,   0,   0,   8,  22,   1,\n",
       "       376,   1,   0,   0,   0,   0,   0,   0,   0,   0,   0,   0,   0,\n",
       "         0,   0,   0,   0,   0,   0,   0,   0,   0,   0,   0,   0,   0,\n",
       "         0,   0,   0,   0,   0,   0,   0,   0,   0,   0,   0,   0,   0,\n",
       "         0,   0,   0,   0,   0,   0,   0,   0,   0,   0,   0,   0,   0,\n",
       "         0,   0,   0,   0,   0,   0,   0,   0,   0,   0,   0,   0,   0,\n",
       "         0,   0,   0,   0,   0,   0,   0,   0,   0,   0,   0,   0,   0,\n",
       "         0,   0,   0,   0,   0,   0,   0,   0,   0,   0,   0,   0,   0,\n",
       "         0,   0,   0,   0,   0,   0,   0,   0,   0,   0,   0,   0,   0,\n",
       "         0,   0,   0,   0,   0,   0,   0,   0,   0,   0,   0,   0,   0,\n",
       "         0,   0,   0,   0,   0,   0,   0,   0,   0,   0,   0,   0,   0,\n",
       "         0,   0,   0,   0,   0,   0,   0,   0,   0,   0,   0,   0,   0,\n",
       "         0,   0,   0,   0,   0,   0,   0,   0,   0,   0,   0,   0,   0,\n",
       "         0,   0,   0,   0,   0,   0,   0,   0,   0,   0,   0,   0,   0,\n",
       "         0,   0,   0,   0,   0,   0,   0,   0,   0,   0,   0,   0,   0,\n",
       "         0,   0,   0,   0,   0,   0,   0,   0,   0,   0,   0,   0,   0,\n",
       "         0,   0,   0,   0,   0,   0,   0,   0,   0,   0,   0,   0,   0,\n",
       "         0,   0,   0,   0,   0,   0,   0,   0,   0,   0,   0,   0,   0,\n",
       "         0,   0,   0,   0,   0,   0,   0,   0,   0,   0,   0,   0,   0,\n",
       "         0,   0,   0,   0,   0,   0,   0,   0,   0,   0,   0,   0,   0,\n",
       "         0,   0,   0,   0,   0,   0,   0,   0,   0,   0,   0,   0,   0,\n",
       "         0,   0,   0,   0,   0,   0,   0], dtype=int64)"
      ]
     },
     "execution_count": 161,
     "metadata": {},
     "output_type": "execute_result"
    }
   ],
   "source": [
    "np.array(df.isnull().sum())\n"
   ]
  },
  {
   "cell_type": "markdown",
   "metadata": {},
   "source": [
    "Only 4 columns have missing values"
   ]
  },
  {
   "cell_type": "code",
   "execution_count": null,
   "metadata": {},
   "outputs": [],
   "source": []
  },
  {
   "cell_type": "markdown",
   "metadata": {},
   "source": [
    "We will impute the missing values with mean of the column as a replacement of missing value. "
   ]
  },
  {
   "cell_type": "code",
   "execution_count": 163,
   "metadata": {},
   "outputs": [],
   "source": [
    "df = df.fillna(df.mean())\n"
   ]
  },
  {
   "cell_type": "code",
   "execution_count": 164,
   "metadata": {},
   "outputs": [
    {
     "data": {
      "text/plain": [
       "array([0, 0, 0, 0, 0, 0, 0, 0, 0, 0, 0, 0, 0, 0, 0, 0, 0, 0, 0, 0, 0, 0,\n",
       "       0, 0, 0, 0, 0, 0, 0, 0, 0, 0, 0, 0, 0, 0, 0, 0, 0, 0, 0, 0, 0, 0,\n",
       "       0, 0, 0, 0, 0, 0, 0, 0, 0, 0, 0, 0, 0, 0, 0, 0, 0, 0, 0, 0, 0, 0,\n",
       "       0, 0, 0, 0, 0, 0, 0, 0, 0, 0, 0, 0, 0, 0, 0, 0, 0, 0, 0, 0, 0, 0,\n",
       "       0, 0, 0, 0, 0, 0, 0, 0, 0, 0, 0, 0, 0, 0, 0, 0, 0, 0, 0, 0, 0, 0,\n",
       "       0, 0, 0, 0, 0, 0, 0, 0, 0, 0, 0, 0, 0, 0, 0, 0, 0, 0, 0, 0, 0, 0,\n",
       "       0, 0, 0, 0, 0, 0, 0, 0, 0, 0, 0, 0, 0, 0, 0, 0, 0, 0, 0, 0, 0, 0,\n",
       "       0, 0, 0, 0, 0, 0, 0, 0, 0, 0, 0, 0, 0, 0, 0, 0, 0, 0, 0, 0, 0, 0,\n",
       "       0, 0, 0, 0, 0, 0, 0, 0, 0, 0, 0, 0, 0, 0, 0, 0, 0, 0, 0, 0, 0, 0,\n",
       "       0, 0, 0, 0, 0, 0, 0, 0, 0, 0, 0, 0, 0, 0, 0, 0, 0, 0, 0, 0, 0, 0,\n",
       "       0, 0, 0, 0, 0, 0, 0, 0, 0, 0, 0, 0, 0, 0, 0, 0, 0, 0, 0, 0, 0, 0,\n",
       "       0, 0, 0, 0, 0, 0, 0, 0, 0, 0, 0, 0, 0, 0, 0, 0, 0, 0, 0, 0, 0, 0,\n",
       "       0, 0, 0, 0, 0, 0, 0, 0, 0, 0, 0, 0, 0, 0, 0, 0], dtype=int64)"
      ]
     },
     "execution_count": 164,
     "metadata": {},
     "output_type": "execute_result"
    }
   ],
   "source": [
    "np.array(df.isnull().sum())"
   ]
  },
  {
   "cell_type": "markdown",
   "metadata": {},
   "source": [
    "## Data Cleaning\n",
    "Let us check if the nominal columns have more than 2 values. If there are, we might want to convert them to one_hot array.\n",
    "\n",
    "Let us also Print the columns which have only one value as they will be of no use in the analysis"
   ]
  },
  {
   "cell_type": "code",
   "execution_count": 165,
   "metadata": {},
   "outputs": [
    {
     "name": "stdout",
     "output_type": "stream",
     "text": [
      "Nominal Columns\n",
      "Unique values in AVL_ExistRagR column are: [0]\n",
      "Unique values in AVF_ExistRagP column are: [0]\n",
      "Unique values in V4_ExistRagP column are: [0]\n",
      "Unique values in V4_ExistDiaP column are: [0]\n",
      "Unique values in V5_ExistRagR column are: [0]\n",
      "Unique values in V5_ExistRagP column are: [0]\n",
      "Unique values in V5_ExistRagT column are: [0]\n",
      "Unique values in V6_ExistDiaP column are: [0]\n",
      "Unique values in V6_ExistRagT column are: [0]\n"
     ]
    }
   ],
   "source": [
    "print('Nominal Columns')\n",
    "for col in NominalCols:\n",
    "    if len(df[col].unique()) != 2:\n",
    "        print(\"Unique values in \"+col+\" column are: \",end=\"\")\n",
    "        print(df[col].unique())"
   ]
  },
  {
   "cell_type": "code",
   "execution_count": 166,
   "metadata": {},
   "outputs": [
    {
     "name": "stdout",
     "output_type": "stream",
     "text": [
      "Linear Columns\n",
      "Unique values in DI_SP_Width column are: [0]\n",
      "Unique values in AVL_SP_Width column are: [0]\n",
      "Unique values in V5_SP_Width column are: [0]\n",
      "Unique values in V6_SP_Width column are: [0]\n",
      "Unique values in DI_AmpSP column are: [0]\n",
      "Unique values in AVL_AmpSP column are: [0]\n",
      "Unique values in V5_AmpSP column are: [0]\n",
      "Unique values in V6_AmpSP column are: [0]\n"
     ]
    }
   ],
   "source": [
    "print('Linear Columns')\n",
    "for col in LinearCols:\n",
    "    if len(df[col].unique()) == 1:\n",
    "        print(\"Unique values in \"+col+\" column are: \",end=\"\")\n",
    "        print(df[col].unique())"
   ]
  },
  {
   "cell_type": "markdown",
   "metadata": {},
   "source": [
    "1) No nominal columns have more than 2 values. So we don't have to convert any column to one hot array.\n",
    "\n",
    "2) Few nominal and linear columns have only one value so remove them and update the NominalCols and LinearCols list."
   ]
  },
  {
   "cell_type": "code",
   "execution_count": 167,
   "metadata": {},
   "outputs": [],
   "source": [
    "for col in df.columns:\n",
    "    if len(df[col].unique()) == 1:\n",
    "        df.drop(col, inplace=True, axis=1)\n",
    "\n",
    "#Update the nominal and linear columns list\n",
    "NominalCols = [i for i in NominalCols if i in df.columns]\n",
    "LinearCols = [i for i in LinearCols if i in df.columns]"
   ]
  },
  {
   "cell_type": "markdown",
   "metadata": {},
   "source": [
    "## Modeling\n",
    "\n",
    "Models built will be  \n",
    "1) Logistic Regression (Multinomial and OneVsRest)      \n",
    "2) Support Vector Classifier (linear and rbf kernels)  \n",
    "3) Decision Tree Classifier  \n",
    "4) Random Forests  \n",
    "5) K Nearest Neighbors  \n",
    "6) Gradient Boosting Classifier  \n",
    "\n"
   ]
  },
  {
   "cell_type": "markdown",
   "metadata": {},
   "source": [
    "Let us seperate the features and target in the dataset and do min max scaling"
   ]
  },
  {
   "cell_type": "code",
   "execution_count": 116,
   "metadata": {},
   "outputs": [],
   "source": [
    "X = df[df.columns[:-1]]\n",
    "y = df['Target']\n",
    "\n",
    "X_train, X_test, y_train, y_test = train_test_split(X, y, test_size=0.30, random_state=1, stratify = y)\n",
    "\n",
    "scaler = StandardScaler()\n",
    "\n",
    "X_train_scaled1 = scaler.fit_transform(X_train)\n",
    "X_test_scaled1 = scaler.transform(X_test)\n",
    "\n",
    "X_scaled1 = scaler.fit_transform(X)\n",
    "\n",
    "\n"
   ]
  },
  {
   "cell_type": "code",
   "execution_count": null,
   "metadata": {},
   "outputs": [],
   "source": []
  },
  {
   "cell_type": "markdown",
   "metadata": {},
   "source": [
    "A few helper functions are used for the analysis.  \n",
    "1) multiclass_roc_auc_score: Scikit learn's roc_auc functions work only for binary classfication problem, this function calculates the AUC for the multiclass classification problem we have.  \n",
    "2) var_imp_plot: This function plots the important variables for the different models that we plot   \n",
    "3) print_grid_search: This function plots few metrics from grid search of use to us  \n",
    "4) print_model_scores: This functions prints a few results we want from a model like classification report etc.  "
   ]
  },
  {
   "cell_type": "code",
   "execution_count": 136,
   "metadata": {},
   "outputs": [],
   "source": [
    "def multiclass_roc_auc_score(truth, pred, average=\"macro\"):\n",
    "\n",
    "    lb = LabelBinarizer()\n",
    "    lb.fit(truth)\n",
    "\n",
    "    truth = lb.transform(truth)\n",
    "    pred = lb.transform(pred)\n",
    "\n",
    "    return(roc_auc_score(truth, pred, average=average))\n",
    "\n",
    "\n",
    "\n",
    "def var_imp_plot(model, df = df):\n",
    "    \n",
    "    feature_importance = model.feature_importances_\n",
    "    feature_importance = 100.0 * (feature_importance / feature_importance.max())\n",
    "    \n",
    "    column_names = df.columns[:-1]\n",
    "\n",
    "    imp = list(zip(column_names, feature_importance))\n",
    "    x = sorted(imp, reverse=True, key= lambda x: x[1])[0:20][::-1]\n",
    "\n",
    "    sorted_idx = np.argsort(feature_importance)[0:20]\n",
    "    pos = np.arange(sorted_idx.shape[0])+0.5\n",
    "\n",
    "    plt.subplot(1, 2, 2)\n",
    "    plt.barh(pos, [a[1] for a in x], align='center')\n",
    "    plt.yticks(pos, [a[0] for a in x])\n",
    "    plt.xlabel('Relative Importance')\n",
    "    plt.title('Variable Importance')\n",
    "    plt.show()\n",
    "\n",
    "    \n",
    "def print_grid_search(grid_search):\n",
    "    \n",
    "    print(\"Best parameters: {}\".format(grid_search.best_params_))\n",
    "    print(\"Best cross-validation score: {:.2f}\".format(grid_search.best_score_))\n",
    "    print( \"Best estimator:\\n{}\".format(grid_search.best_estimator_))\n",
    "\n",
    "    \n",
    "def print_model_scores(model, y_test = y_test, X_test_scaled = X_test_scaled, X_train_scaled = X_train_scaled, y_train = y_train):\n",
    "    \n",
    "    y_predicted = model.predict(X_test_scaled)\n",
    "    \n",
    "    print(\"training score : %.4f \" % (model.score(X_train_scaled, y_train)))\n",
    "    print(\"testing score : %.4f \" % (model.score(X_test_scaled, y_test)))\n",
    "    \n",
    "    print(\"Testing report :\")\n",
    "    print(classification_report(y_test, y_predicted))\n",
    "    \n",
    "    print(\"Confusion matrix: \")\n",
    "    print(confusion_matrix(y_test, y_predicted))\n",
    "    \n",
    "    print(\"AUC: {:.4f}\".format(multiclass_roc_auc_score(y_test, y_predicted)))\n",
    "    "
   ]
  },
  {
   "cell_type": "markdown",
   "metadata": {},
   "source": [
    "## PCA to improve the speed"
   ]
  },
  {
   "cell_type": "code",
   "execution_count": 131,
   "metadata": {},
   "outputs": [],
   "source": [
    "pca = PCA(0.95)\n",
    "\n",
    "X_train_scaled = pca.fit_transform(X_train_scaled1)\n"
   ]
  },
  {
   "cell_type": "markdown",
   "metadata": {},
   "source": [
    "# "
   ]
  },
  {
   "cell_type": "code",
   "execution_count": 132,
   "metadata": {},
   "outputs": [],
   "source": [
    "X_test_scaled = pca.transform(X_test_scaled1)"
   ]
  },
  {
   "cell_type": "markdown",
   "metadata": {},
   "source": [
    "##### The model building process for each model will be as follows:  \n",
    "###### 1) Do Grid Search on each model to find the best estimator   \n",
    "###### 2) Use the best estimator to build that specific model  \n",
    "###### 3) Bagging and Boosting (if applicable) the best estimator to try and get better results   \n",
    "###### 4) Decide the best model based on the maximum accuracy and maximum roc  \n"
   ]
  },
  {
   "cell_type": "markdown",
   "metadata": {},
   "source": [
    "\n",
    "\n",
    "Grid Search to find the best value for C in both the Multionomial and One Vs Rest"
   ]
  },
  {
   "cell_type": "code",
   "execution_count": 133,
   "metadata": {},
   "outputs": [
    {
     "name": "stdout",
     "output_type": "stream",
     "text": [
      "multinomial\n",
      "Best parameters: {'C': 0.1}\n",
      "Best cross-validation score: 0.67\n",
      "Best estimator:\n",
      "LogisticRegression(C=0.1, class_weight=None, dual=False, fit_intercept=True,\n",
      "          intercept_scaling=1, max_iter=100, multi_class='multinomial',\n",
      "          n_jobs=1, penalty='l2', random_state=1, solver='sag', tol=0.0001,\n",
      "          verbose=0, warm_start=False)\n",
      "ovr\n",
      "Best parameters: {'C': 0.1}\n",
      "Best cross-validation score: 0.69\n",
      "Best estimator:\n",
      "LogisticRegression(C=0.1, class_weight=None, dual=False, fit_intercept=True,\n",
      "          intercept_scaling=1, max_iter=100, multi_class='ovr', n_jobs=1,\n",
      "          penalty='l2', random_state=1, solver='sag', tol=0.0001,\n",
      "          verbose=0, warm_start=False)\n"
     ]
    }
   ],
   "source": [
    "param_grid = {'C':[0.1,0.5,1,2,5,10]}\n",
    "\n",
    "\n",
    "for multi_class in ('multinomial', 'ovr'):\n",
    "    grid_search = GridSearchCV(linear_model.LogisticRegression(solver='sag', random_state=1, multi_class=multi_class),\n",
    "                               param_grid, cv=StratifiedKFold(5, shuffle = True, random_state = 1))\n",
    "\n",
    "    grid_search.fit(X_train_scaled, y_train)\n",
    "    \n",
    "    print(multi_class)\n",
    "    print_grid_search(grid_search)"
   ]
  },
  {
   "cell_type": "markdown",
   "metadata": {},
   "source": [
    "Building the multiclass logistic regression model for multinomial and one Versus rest"
   ]
  },
  {
   "cell_type": "code",
   "execution_count": 137,
   "metadata": {},
   "outputs": [
    {
     "name": "stdout",
     "output_type": "stream",
     "text": [
      "multinomial\n",
      "training score : 0.9051 \n",
      "testing score : 0.6765 \n",
      "Testing report :\n",
      "             precision    recall  f1-score   support\n",
      "\n",
      "          1       0.72      0.95      0.82        74\n",
      "          2       0.67      0.31      0.42        13\n",
      "          3       1.00      1.00      1.00         4\n",
      "          4       0.57      1.00      0.73         4\n",
      "          5       0.00      0.00      0.00         4\n",
      "          6       1.00      0.12      0.22         8\n",
      "          7       0.00      0.00      0.00         1\n",
      "          8       0.00      0.00      0.00         1\n",
      "          9       1.00      0.33      0.50         3\n",
      "         10       0.58      0.47      0.52        15\n",
      "         14       0.00      0.00      0.00         1\n",
      "         15       0.50      1.00      0.67         1\n",
      "         16       0.00      0.00      0.00         7\n",
      "\n",
      "avg / total       0.65      0.68      0.62       136\n",
      "\n",
      "Confusion matrix: \n",
      "[[70  0  0  1  0  0  0  0  0  1  0  0  2]\n",
      " [ 8  4  0  0  0  0  0  0  0  1  0  0  0]\n",
      " [ 0  0  4  0  0  0  0  0  0  0  0  0  0]\n",
      " [ 0  0  0  4  0  0  0  0  0  0  0  0  0]\n",
      " [ 4  0  0  0  0  0  0  0  0  0  0  0  0]\n",
      " [ 4  0  0  1  0  1  0  0  0  0  0  1  1]\n",
      " [ 1  0  0  0  0  0  0  0  0  0  0  0  0]\n",
      " [ 1  0  0  0  0  0  0  0  0  0  0  0  0]\n",
      " [ 0  1  0  0  0  0  0  0  1  1  0  0  0]\n",
      " [ 3  1  0  1  1  0  2  0  0  7  0  0  0]\n",
      " [ 1  0  0  0  0  0  0  0  0  0  0  0  0]\n",
      " [ 0  0  0  0  0  0  0  0  0  0  0  1  0]\n",
      " [ 5  0  0  0  0  0  0  0  0  2  0  0  0]]\n",
      "AUC: 0.6773\n",
      "ovr\n",
      "training score : 0.8608 \n",
      "testing score : 0.6985 \n",
      "Testing report :\n",
      "             precision    recall  f1-score   support\n",
      "\n",
      "          1       0.71      0.97      0.82        74\n",
      "          2       0.57      0.31      0.40        13\n",
      "          3       0.80      1.00      0.89         4\n",
      "          4       0.50      0.50      0.50         4\n",
      "          5       0.00      0.00      0.00         4\n",
      "          6       0.00      0.00      0.00         8\n",
      "          7       0.00      0.00      0.00         1\n",
      "          8       0.00      0.00      0.00         1\n",
      "          9       1.00      0.33      0.50         3\n",
      "         10       0.73      0.73      0.73        15\n",
      "         14       0.00      0.00      0.00         1\n",
      "         15       1.00      1.00      1.00         1\n",
      "         16       0.00      0.00      0.00         7\n",
      "\n",
      "avg / total       0.59      0.70      0.62       136\n",
      "\n",
      "Confusion matrix: \n",
      "[[72  0  0  1  0  0  0  0  0  1  0  0  0]\n",
      " [ 8  4  0  0  0  0  0  0  0  1  0  0  0]\n",
      " [ 0  0  4  0  0  0  0  0  0  0  0  0  0]\n",
      " [ 2  0  0  2  0  0  0  0  0  0  0  0  0]\n",
      " [ 3  1  0  0  0  0  0  0  0  0  0  0  0]\n",
      " [ 6  0  1  1  0  0  0  0  0  0  0  0  0]\n",
      " [ 1  0  0  0  0  0  0  0  0  0  0  0  0]\n",
      " [ 1  0  0  0  0  0  0  0  0  0  0  0  0]\n",
      " [ 1  1  0  0  0  0  0  0  1  0  0  0  0]\n",
      " [ 3  0  0  0  0  0  1  0  0 11  0  0  0]\n",
      " [ 1  0  0  0  0  0  0  0  0  0  0  0  0]\n",
      " [ 0  0  0  0  0  0  0  0  0  0  0  1  0]\n",
      " [ 4  1  0  0  0  0  0  0  0  2  0  0  0]]\n",
      "AUC: 0.6645\n"
     ]
    }
   ],
   "source": [
    "for multi_class, c in [('multinomial',0.1), ('ovr', 0.1)]:\n",
    "    clf = linear_model.LogisticRegression(solver='sag', random_state=1, C = c,\n",
    "                             multi_class=multi_class).fit(X_train_scaled, y_train)\n",
    "\n",
    "    # print the training scores\n",
    "    print(multi_class)\n",
    "    print_model_scores(model = clf)"
   ]
  },
  {
   "cell_type": "markdown",
   "metadata": {},
   "source": [
    "Appliying Boosting and Bagging on both the models\n"
   ]
  },
  {
   "cell_type": "code",
   "execution_count": 139,
   "metadata": {},
   "outputs": [
    {
     "name": "stdout",
     "output_type": "stream",
     "text": [
      "Bagging\n",
      "multinomial\n",
      "training score : 0.8766 \n",
      "testing score : 0.6912 \n",
      "Testing report :\n",
      "             precision    recall  f1-score   support\n",
      "\n",
      "          1       0.71      0.97      0.82        74\n",
      "          2       0.80      0.31      0.44        13\n",
      "          3       0.80      1.00      0.89         4\n",
      "          4       0.50      1.00      0.67         4\n",
      "          5       0.00      0.00      0.00         4\n",
      "          6       0.00      0.00      0.00         8\n",
      "          7       0.00      0.00      0.00         1\n",
      "          8       0.00      0.00      0.00         1\n",
      "          9       0.50      0.33      0.40         3\n",
      "         10       0.82      0.60      0.69        15\n",
      "         14       0.00      0.00      0.00         1\n",
      "         15       0.00      0.00      0.00         1\n",
      "         16       0.00      0.00      0.00         7\n",
      "\n",
      "avg / total       0.60      0.69      0.62       136\n",
      "\n",
      "Confusion matrix: \n",
      "[[72  0  0  1  0  0  0  0  0  0  0  0  1]\n",
      " [ 9  4  0  0  0  0  0  0  0  0  0  0  0]\n",
      " [ 0  0  4  0  0  0  0  0  0  0  0  0  0]\n",
      " [ 0  0  0  4  0  0  0  0  0  0  0  0  0]\n",
      " [ 3  0  0  1  0  0  0  0  0  0  0  0  0]\n",
      " [ 6  0  1  1  0  0  0  0  0  0  0  0  0]\n",
      " [ 1  0  0  0  0  0  0  0  0  0  0  0  0]\n",
      " [ 1  0  0  0  0  0  0  0  0  0  0  0  0]\n",
      " [ 0  1  0  0  0  0  0  0  1  1  0  0  0]\n",
      " [ 3  0  0  1  1  0  1  0  0  9  0  0  0]\n",
      " [ 1  0  0  0  0  0  0  0  0  0  0  0  0]\n",
      " [ 0  0  0  0  0  0  0  0  0  0  0  0  1]\n",
      " [ 5  0  0  0  0  0  0  0  1  1  0  0  0]]\n",
      "AUC: 0.6402\n",
      "ovr\n",
      "training score : 0.8576 \n",
      "testing score : 0.6912 \n",
      "Testing report :\n",
      "             precision    recall  f1-score   support\n",
      "\n",
      "          1       0.70      0.96      0.81        74\n",
      "          2       0.67      0.31      0.42        13\n",
      "          3       0.80      1.00      0.89         4\n",
      "          4       0.50      0.50      0.50         4\n",
      "          5       0.00      0.00      0.00         4\n",
      "          6       0.00      0.00      0.00         8\n",
      "          7       0.00      0.00      0.00         1\n",
      "          8       0.00      0.00      0.00         1\n",
      "          9       1.00      0.33      0.50         3\n",
      "         10       0.73      0.73      0.73        15\n",
      "         14       0.00      0.00      0.00         1\n",
      "         15       1.00      1.00      1.00         1\n",
      "         16       0.00      0.00      0.00         7\n",
      "\n",
      "avg / total       0.59      0.69      0.62       136\n",
      "\n",
      "Confusion matrix: \n",
      "[[71  0  0  1  0  0  0  0  0  2  0  0  0]\n",
      " [ 8  4  0  0  0  0  0  0  0  1  0  0  0]\n",
      " [ 0  0  4  0  0  0  0  0  0  0  0  0  0]\n",
      " [ 2  0  0  2  0  0  0  0  0  0  0  0  0]\n",
      " [ 3  1  0  0  0  0  0  0  0  0  0  0  0]\n",
      " [ 5  0  1  1  0  0  0  0  0  0  0  0  1]\n",
      " [ 1  0  0  0  0  0  0  0  0  0  0  0  0]\n",
      " [ 1  0  0  0  0  0  0  0  0  0  0  0  0]\n",
      " [ 1  1  0  0  0  0  0  0  1  0  0  0  0]\n",
      " [ 3  0  0  0  0  0  1  0  0 11  0  0  0]\n",
      " [ 1  0  0  0  0  0  0  0  0  0  0  0  0]\n",
      " [ 0  0  0  0  0  0  0  0  0  0  0  1  0]\n",
      " [ 6  0  0  0  0  0  0  0  0  1  0  0  0]]\n",
      "AUC: 0.6633\n",
      "AdaBoost\n",
      "multinomial\n",
      "training score : 0.7911 \n",
      "testing score : 0.6471 \n",
      "Testing report :\n",
      "             precision    recall  f1-score   support\n",
      "\n",
      "          1       0.71      0.88      0.78        74\n",
      "          2       0.56      0.38      0.45        13\n",
      "          3       1.00      1.00      1.00         4\n",
      "          4       0.80      1.00      0.89         4\n",
      "          5       0.00      0.00      0.00         4\n",
      "          6       0.00      0.00      0.00         8\n",
      "          7       0.00      0.00      0.00         1\n",
      "          8       0.00      0.00      0.00         1\n",
      "          9       0.00      0.00      0.00         3\n",
      "         10       0.64      0.60      0.62        15\n",
      "         14       1.00      1.00      1.00         1\n",
      "         15       0.00      0.00      0.00         1\n",
      "         16       0.00      0.00      0.00         7\n",
      "\n",
      "avg / total       0.57      0.65      0.60       136\n",
      "\n",
      "Confusion matrix: \n",
      "[[65  1  0  0  0  1  0  0  0  3  0  0  4]\n",
      " [ 7  5  0  0  0  0  0  0  0  0  0  0  1]\n",
      " [ 0  0  4  0  0  0  0  0  0  0  0  0  0]\n",
      " [ 0  0  0  4  0  0  0  0  0  0  0  0  0]\n",
      " [ 4  0  0  0  0  0  0  0  0  0  0  0  0]\n",
      " [ 5  0  0  1  0  0  0  0  0  0  0  0  2]\n",
      " [ 1  0  0  0  0  0  0  0  0  0  0  0  0]\n",
      " [ 1  0  0  0  0  0  0  0  0  0  0  0  0]\n",
      " [ 0  2  0  0  0  0  0  0  0  1  0  0  0]\n",
      " [ 4  0  0  0  1  0  1  0  0  9  0  0  0]\n",
      " [ 0  0  0  0  0  0  0  0  0  0  1  0  0]\n",
      " [ 0  0  0  0  0  0  0  0  0  0  0  0  1]\n",
      " [ 5  1  0  0  0  0  0  0  0  1  0  0  0]]\n",
      "AUC: 0.6639\n",
      "ovr\n",
      "training score : 0.8006 \n",
      "testing score : 0.6691 \n",
      "Testing report :\n",
      "             precision    recall  f1-score   support\n",
      "\n",
      "          1       0.73      0.89      0.80        74\n",
      "          2       0.50      0.38      0.43        13\n",
      "          3       0.80      1.00      0.89         4\n",
      "          4       0.67      1.00      0.80         4\n",
      "          5       0.00      0.00      0.00         4\n",
      "          6       0.00      0.00      0.00         8\n",
      "          7       0.00      0.00      0.00         1\n",
      "          8       0.00      0.00      0.00         1\n",
      "          9       1.00      0.33      0.50         3\n",
      "         10       0.69      0.60      0.64        15\n",
      "         14       1.00      1.00      1.00         1\n",
      "         15       1.00      1.00      1.00         1\n",
      "         16       0.00      0.00      0.00         7\n",
      "\n",
      "avg / total       0.60      0.67      0.62       136\n",
      "\n",
      "Confusion matrix: \n",
      "[[66  2  0  0  0  1  0  0  0  2  0  0  3]\n",
      " [ 7  5  0  0  0  0  0  0  0  0  0  0  1]\n",
      " [ 0  0  4  0  0  0  0  0  0  0  0  0  0]\n",
      " [ 0  0  0  4  0  0  0  0  0  0  0  0  0]\n",
      " [ 4  0  0  0  0  0  0  0  0  0  0  0  0]\n",
      " [ 5  0  1  1  0  0  0  0  0  0  0  0  1]\n",
      " [ 1  0  0  0  0  0  0  0  0  0  0  0  0]\n",
      " [ 1  0  0  0  0  0  0  0  0  0  0  0  0]\n",
      " [ 0  1  0  0  0  0  0  0  1  1  0  0  0]\n",
      " [ 3  0  0  1  1  0  1  0  0  9  0  0  0]\n",
      " [ 0  0  0  0  0  0  0  0  0  0  1  0  0]\n",
      " [ 0  0  0  0  0  0  0  0  0  0  0  1  0]\n",
      " [ 4  2  0  0  0  0  0  0  0  1  0  0  0]]\n",
      "AUC: 0.7173\n"
     ]
    }
   ],
   "source": [
    "print(\"Bagging\")\n",
    "for multi_class, c in [('multinomial',0.1), ('ovr', 0.1)]:\n",
    "    clf = BaggingClassifier(linear_model.LogisticRegression(solver='sag', random_state=1, C = c,\n",
    "                             multi_class=multi_class)).fit(X_train_scaled, y_train)\n",
    "\n",
    "    # print the training scores\n",
    "    print(multi_class)\n",
    "    print_model_scores(model = clf)\n",
    "    \n",
    "print(\"AdaBoost\")\n",
    "for multi_class, c in [('multinomial',0.1), ('ovr', 0.1)]:\n",
    "    clf = AdaBoostClassifier(linear_model.LogisticRegression(solver='sag', random_state=1, C = c,\n",
    "                             multi_class=multi_class)).fit(X_train_scaled, y_train)\n",
    "\n",
    "    # print the training scores\n",
    "    print(multi_class)\n",
    "    print_model_scores(model = clf)"
   ]
  },
  {
   "cell_type": "markdown",
   "metadata": {},
   "source": [
    "## Grid Search on Support Vector Classifier to find best values for C using a linear kernel"
   ]
  },
  {
   "cell_type": "code",
   "execution_count": 140,
   "metadata": {},
   "outputs": [
    {
     "name": "stdout",
     "output_type": "stream",
     "text": [
      "Best parameters: {'C': 0.01}\n",
      "Best cross-validation score: 0.69\n",
      "Best estimator:\n",
      "SVC(C=0.01, cache_size=200, class_weight=None, coef0=0.0,\n",
      "  decision_function_shape='ovr', degree=3, gamma='auto', kernel='linear',\n",
      "  max_iter=-1, probability=False, random_state=1, shrinking=True,\n",
      "  tol=0.001, verbose=False)\n"
     ]
    }
   ],
   "source": [
    "param_grid = {'C': [0.001, 0.01, 0.1, 1, 10, 100]}\n",
    "\n",
    "grid_search = GridSearchCV(SVC(kernel = 'linear', random_state = 1),\n",
    "                           param_grid, cv=StratifiedKFold(5, shuffle = True, random_state = 1))\n",
    "\n",
    "grid_search.fit(X_train_scaled, y_train)\n",
    "\n",
    "print_grid_search(grid_search)"
   ]
  },
  {
   "cell_type": "markdown",
   "metadata": {},
   "source": [
    "Build linear SVC using the best parameters"
   ]
  },
  {
   "cell_type": "code",
   "execution_count": 142,
   "metadata": {},
   "outputs": [
    {
     "name": "stdout",
     "output_type": "stream",
     "text": [
      "training score : 0.8259 \n",
      "testing score : 0.6985 \n",
      "Testing report :\n",
      "             precision    recall  f1-score   support\n",
      "\n",
      "          1       0.68      0.99      0.81        74\n",
      "          2       1.00      0.31      0.47        13\n",
      "          3       1.00      1.00      1.00         4\n",
      "          4       0.60      0.75      0.67         4\n",
      "          5       0.00      0.00      0.00         4\n",
      "          6       0.00      0.00      0.00         8\n",
      "          7       0.00      0.00      0.00         1\n",
      "          8       0.00      0.00      0.00         1\n",
      "          9       1.00      0.67      0.80         3\n",
      "         10       0.73      0.53      0.62        15\n",
      "         14       0.00      0.00      0.00         1\n",
      "         15       1.00      1.00      1.00         1\n",
      "         16       0.00      0.00      0.00         7\n",
      "\n",
      "avg / total       0.62      0.70      0.63       136\n",
      "\n",
      "Confusion matrix: \n",
      "[[73  0  0  1  0  0  0  0  0  0  0  0  0]\n",
      " [ 8  4  0  0  0  0  0  0  0  1  0  0  0]\n",
      " [ 0  0  4  0  0  0  0  0  0  0  0  0  0]\n",
      " [ 1  0  0  3  0  0  0  0  0  0  0  0  0]\n",
      " [ 4  0  0  0  0  0  0  0  0  0  0  0  0]\n",
      " [ 7  0  0  1  0  0  0  0  0  0  0  0  0]\n",
      " [ 1  0  0  0  0  0  0  0  0  0  0  0  0]\n",
      " [ 1  0  0  0  0  0  0  0  0  0  0  0  0]\n",
      " [ 0  0  0  0  0  0  0  0  2  1  0  0  0]\n",
      " [ 5  0  0  0  0  0  2  0  0  8  0  0  0]\n",
      " [ 1  0  0  0  0  0  0  0  0  0  0  0  0]\n",
      " [ 0  0  0  0  0  0  0  0  0  0  0  1  0]\n",
      " [ 6  0  0  0  0  0  0  0  0  1  0  0  0]]\n",
      "AUC: 0.6785\n"
     ]
    }
   ],
   "source": [
    "svc = SVC(C=0.01, kernel='linear', random_state=1).fit(X_train_scaled, y_train)\n",
    "\n",
    "print_model_scores(model = svc)"
   ]
  },
  {
   "cell_type": "markdown",
   "metadata": {},
   "source": [
    "Bagging and boosting on SVC with linear kernel"
   ]
  },
  {
   "cell_type": "code",
   "execution_count": 143,
   "metadata": {},
   "outputs": [
    {
     "name": "stdout",
     "output_type": "stream",
     "text": [
      "training score : 0.7816 \n",
      "testing score : 0.6765 \n",
      "Testing report :\n",
      "             precision    recall  f1-score   support\n",
      "\n",
      "          1       0.65      0.99      0.78        74\n",
      "          2       1.00      0.31      0.47        13\n",
      "          3       1.00      1.00      1.00         4\n",
      "          4       0.60      0.75      0.67         4\n",
      "          5       0.00      0.00      0.00         4\n",
      "          6       0.00      0.00      0.00         8\n",
      "          7       0.00      0.00      0.00         1\n",
      "          8       0.00      0.00      0.00         1\n",
      "          9       1.00      0.67      0.80         3\n",
      "         10       0.86      0.40      0.55        15\n",
      "         14       0.00      0.00      0.00         1\n",
      "         15       0.00      0.00      0.00         1\n",
      "         16       0.00      0.00      0.00         7\n",
      "\n",
      "avg / total       0.61      0.68      0.60       136\n",
      "\n",
      "Confusion matrix: \n",
      "[[73  0  0  1  0  0  0  0  0  0  0  0  0]\n",
      " [ 9  4  0  0  0  0  0  0  0  0  0  0  0]\n",
      " [ 0  0  4  0  0  0  0  0  0  0  0  0  0]\n",
      " [ 1  0  0  3  0  0  0  0  0  0  0  0  0]\n",
      " [ 4  0  0  0  0  0  0  0  0  0  0  0  0]\n",
      " [ 7  0  0  1  0  0  0  0  0  0  0  0  0]\n",
      " [ 1  0  0  0  0  0  0  0  0  0  0  0  0]\n",
      " [ 1  0  0  0  0  0  0  0  0  0  0  0  0]\n",
      " [ 1  0  0  0  0  0  0  0  2  0  0  0  0]\n",
      " [ 8  0  0  0  0  0  1  0  0  6  0  0  0]\n",
      " [ 1  0  0  0  0  0  0  0  0  0  0  0  0]\n",
      " [ 1  0  0  0  0  0  0  0  0  0  0  0  0]\n",
      " [ 6  0  0  0  0  0  0  0  0  1  0  0  0]]\n",
      "AUC: 0.6321\n"
     ]
    }
   ],
   "source": [
    "svc = BaggingClassifier(SVC(C=0.01, kernel='linear', random_state=1)).fit(X_train_scaled, y_train)\n",
    "\n",
    "print_model_scores(svc)"
   ]
  },
  {
   "cell_type": "markdown",
   "metadata": {},
   "source": [
    "Grid Search on Support Vector Classifier to find best values for C and gamma using a rbf kernel"
   ]
  },
  {
   "cell_type": "code",
   "execution_count": 144,
   "metadata": {},
   "outputs": [
    {
     "name": "stdout",
     "output_type": "stream",
     "text": [
      "Best parameters: {'C': 10, 'gamma': 0.001}\n",
      "Best cross-validation score: 0.69\n",
      "Best estimator:\n",
      "SVC(C=10, cache_size=200, class_weight=None, coef0=0.0,\n",
      "  decision_function_shape='ovr', degree=3, gamma=0.001, kernel='rbf',\n",
      "  max_iter=-1, probability=False, random_state=1, shrinking=True,\n",
      "  tol=0.001, verbose=False)\n"
     ]
    }
   ],
   "source": [
    "param_grid = {'C': [1, 10, 100, 200, 400, 500],\n",
    "              'gamma': [0.001, 0.01, 0.05, 0.1]}\n",
    "\n",
    "grid_search = GridSearchCV(SVC(kernel = 'rbf', random_state = 1),\n",
    "                           param_grid, cv=StratifiedKFold(5, shuffle = True, random_state = 1))\n",
    "\n",
    "grid_search.fit(X_train_scaled, y_train)\n",
    "\n",
    "print_grid_search(grid_search)"
   ]
  },
  {
   "cell_type": "markdown",
   "metadata": {},
   "source": [
    "Build radial kernel SVM using the best parameters"
   ]
  },
  {
   "cell_type": "code",
   "execution_count": 145,
   "metadata": {},
   "outputs": [
    {
     "name": "stdout",
     "output_type": "stream",
     "text": [
      "training score : 0.9082 \n",
      "testing score : 0.6838 \n",
      "Testing report :\n",
      "             precision    recall  f1-score   support\n",
      "\n",
      "          1       0.69      0.95      0.80        74\n",
      "          2       0.62      0.38      0.48        13\n",
      "          3       1.00      1.00      1.00         4\n",
      "          4       0.50      0.50      0.50         4\n",
      "          5       0.00      0.00      0.00         4\n",
      "          6       0.00      0.00      0.00         8\n",
      "          7       0.00      0.00      0.00         1\n",
      "          8       0.00      0.00      0.00         1\n",
      "          9       1.00      0.67      0.80         3\n",
      "         10       0.69      0.60      0.64        15\n",
      "         14       0.00      0.00      0.00         1\n",
      "         15       1.00      1.00      1.00         1\n",
      "         16       0.00      0.00      0.00         7\n",
      "\n",
      "avg / total       0.59      0.68      0.62       136\n",
      "\n",
      "Confusion matrix: \n",
      "[[70  2  0  1  0  0  0  0  0  1  0  0  0]\n",
      " [ 7  5  0  0  0  0  0  0  0  1  0  0  0]\n",
      " [ 0  0  4  0  0  0  0  0  0  0  0  0  0]\n",
      " [ 2  0  0  2  0  0  0  0  0  0  0  0  0]\n",
      " [ 4  0  0  0  0  0  0  0  0  0  0  0  0]\n",
      " [ 6  0  0  1  0  0  0  0  0  0  0  0  1]\n",
      " [ 1  0  0  0  0  0  0  0  0  0  0  0  0]\n",
      " [ 1  0  0  0  0  0  0  0  0  0  0  0  0]\n",
      " [ 0  0  0  0  0  0  0  0  2  1  0  0  0]\n",
      " [ 3  1  0  0  1  0  1  0  0  9  0  0  0]\n",
      " [ 1  0  0  0  0  0  0  0  0  0  0  0  0]\n",
      " [ 0  0  0  0  0  0  0  0  0  0  0  1  0]\n",
      " [ 6  0  0  0  0  0  0  0  0  1  0  0  0]]\n",
      "AUC: 0.6731\n"
     ]
    }
   ],
   "source": [
    "svc = SVC(C=10, gamma=0.001, kernel='rbf', random_state=1).fit(X_train_scaled, y_train)\n",
    "\n",
    "print_model_scores(model = svc)"
   ]
  },
  {
   "cell_type": "markdown",
   "metadata": {},
   "source": [
    "Bagging and boosting SVC with rbf kernel"
   ]
  },
  {
   "cell_type": "code",
   "execution_count": 146,
   "metadata": {},
   "outputs": [
    {
     "name": "stdout",
     "output_type": "stream",
     "text": [
      "training score : 0.7627 \n",
      "testing score : 0.6250 \n",
      "Testing report :\n",
      "             precision    recall  f1-score   support\n",
      "\n",
      "          1       0.66      0.99      0.79        74\n",
      "          2       0.67      0.31      0.42        13\n",
      "          3       1.00      1.00      1.00         4\n",
      "          4       0.50      0.50      0.50         4\n",
      "          5       0.00      0.00      0.00         4\n",
      "          6       0.00      0.00      0.00         8\n",
      "          7       0.00      0.00      0.00         1\n",
      "          8       0.00      0.00      0.00         1\n",
      "          9       0.12      0.33      0.18         3\n",
      "         10       1.00      0.07      0.12        15\n",
      "         14       0.00      0.00      0.00         1\n",
      "         15       0.00      0.00      0.00         1\n",
      "         16       0.00      0.00      0.00         7\n",
      "\n",
      "avg / total       0.58      0.62      0.53       136\n",
      "\n",
      "Confusion matrix: \n",
      "[[73  0  0  1  0  0  0  0  0  0  0  0  0]\n",
      " [ 9  4  0  0  0  0  0  0  0  0  0  0  0]\n",
      " [ 0  0  4  0  0  0  0  0  0  0  0  0  0]\n",
      " [ 2  0  0  2  0  0  0  0  0  0  0  0  0]\n",
      " [ 4  0  0  0  0  0  0  0  0  0  0  0  0]\n",
      " [ 7  0  0  1  0  0  0  0  0  0  0  0  0]\n",
      " [ 1  0  0  0  0  0  0  0  0  0  0  0  0]\n",
      " [ 1  0  0  0  0  0  0  0  0  0  0  0  0]\n",
      " [ 1  1  0  0  0  0  0  0  1  0  0  0  0]\n",
      " [ 5  1  0  0  1  0  1  0  6  1  0  0  0]\n",
      " [ 1  0  0  0  0  0  0  0  0  0  0  0  0]\n",
      " [ 1  0  0  0  0  0  0  0  0  0  0  0  0]\n",
      " [ 6  0  0  0  0  0  0  0  1  0  0  0  0]]\n",
      "AUC: 0.5955\n"
     ]
    }
   ],
   "source": [
    "svc = BaggingClassifier(SVC(C=10, gamma=0.001, kernel='rbf', random_state=1)).fit(X_train_scaled, y_train)\n",
    "\n",
    "print_model_scores(svc)"
   ]
  },
  {
   "cell_type": "markdown",
   "metadata": {},
   "source": [
    "Grid Search on Decision Tree to find best estimator"
   ]
  },
  {
   "cell_type": "code",
   "execution_count": 147,
   "metadata": {},
   "outputs": [
    {
     "name": "stdout",
     "output_type": "stream",
     "text": [
      "Best parameters: {'max_depth': 3}\n",
      "Best cross-validation score: 0.52\n",
      "Best estimator:\n",
      "DecisionTreeClassifier(class_weight=None, criterion='gini', max_depth=3,\n",
      "            max_features=None, max_leaf_nodes=None,\n",
      "            min_impurity_decrease=0.0, min_impurity_split=None,\n",
      "            min_samples_leaf=1, min_samples_split=2,\n",
      "            min_weight_fraction_leaf=0.0, presort=False, random_state=1,\n",
      "            splitter='best')\n"
     ]
    }
   ],
   "source": [
    "param_grid = {'max_depth': np.arange(3, 10)}\n",
    "\n",
    "grid_search = GridSearchCV(DecisionTreeClassifier(random_state=1),\n",
    "                           param_grid, cv=StratifiedKFold(5, shuffle = True, random_state = 1))\n",
    "\n",
    "grid_search.fit(X_train_scaled, y_train)\n",
    "\n",
    "print_grid_search(grid_search)"
   ]
  },
  {
   "cell_type": "markdown",
   "metadata": {},
   "source": [
    "Building Decision Tree using best estimator"
   ]
  },
  {
   "cell_type": "code",
   "execution_count": 148,
   "metadata": {},
   "outputs": [
    {
     "name": "stdout",
     "output_type": "stream",
     "text": [
      "training score : 0.6614 \n",
      "testing score : 0.5662 \n",
      "Testing report :\n",
      "             precision    recall  f1-score   support\n",
      "\n",
      "          1       0.64      0.93      0.76        74\n",
      "          2       0.00      0.00      0.00        13\n",
      "          3       0.30      0.75      0.43         4\n",
      "          4       0.00      0.00      0.00         4\n",
      "          5       0.00      0.00      0.00         4\n",
      "          6       0.00      0.00      0.00         8\n",
      "          7       0.00      0.00      0.00         1\n",
      "          8       0.00      0.00      0.00         1\n",
      "          9       1.00      0.33      0.50         3\n",
      "         10       0.40      0.27      0.32        15\n",
      "         14       0.00      0.00      0.00         1\n",
      "         15       0.00      0.00      0.00         1\n",
      "         16       0.00      0.00      0.00         7\n",
      "\n",
      "avg / total       0.42      0.57      0.47       136\n",
      "\n",
      "Confusion matrix: \n",
      "[[69  0  3  0  0  0  0  0  0  1  0  1  0]\n",
      " [11  0  1  0  0  0  0  0  0  0  0  1  0]\n",
      " [ 0  0  3  0  0  0  0  0  0  1  0  0  0]\n",
      " [ 2  0  0  0  1  0  0  0  0  0  0  1  0]\n",
      " [ 4  0  0  0  0  0  0  0  0  0  0  0  0]\n",
      " [ 7  0  0  0  0  0  0  0  0  1  0  0  0]\n",
      " [ 1  0  0  0  0  0  0  0  0  0  0  0  0]\n",
      " [ 1  0  0  0  0  0  0  0  0  0  0  0  0]\n",
      " [ 0  0  0  0  0  0  0  0  1  1  0  1  0]\n",
      " [ 8  1  1  0  1  0  0  0  0  4  0  0  0]\n",
      " [ 0  0  1  0  0  0  0  0  0  0  0  0  0]\n",
      " [ 1  0  0  0  0  0  0  0  0  0  0  0  0]\n",
      " [ 4  0  1  0  0  0  0  0  0  2  0  0  0]]\n",
      "AUC: 0.5576\n"
     ]
    }
   ],
   "source": [
    "dt = DecisionTreeClassifier(max_depth = 3, random_state=1).fit(X_train_scaled, y_train)\n",
    "\n",
    "print_model_scores(dt)"
   ]
  },
  {
   "cell_type": "markdown",
   "metadata": {},
   "source": [
    "Bagging and boosting decision tree classifier"
   ]
  },
  {
   "cell_type": "code",
   "execution_count": 149,
   "metadata": {},
   "outputs": [
    {
     "name": "stdout",
     "output_type": "stream",
     "text": [
      "Bagging\n",
      "training score : 0.6614 \n",
      "testing score : 0.5735 \n",
      "Testing report :\n",
      "             precision    recall  f1-score   support\n",
      "\n",
      "          1       0.58      1.00      0.73        74\n",
      "          2       0.50      0.08      0.13        13\n",
      "          3       0.00      0.00      0.00         4\n",
      "          4       1.00      0.25      0.40         4\n",
      "          5       0.00      0.00      0.00         4\n",
      "          6       0.00      0.00      0.00         8\n",
      "          7       0.00      0.00      0.00         1\n",
      "          8       0.00      0.00      0.00         1\n",
      "          9       0.00      0.00      0.00         3\n",
      "         10       0.67      0.13      0.22        15\n",
      "         14       0.00      0.00      0.00         1\n",
      "         15       0.00      0.00      0.00         1\n",
      "         16       0.00      0.00      0.00         7\n",
      "\n",
      "avg / total       0.47      0.57      0.45       136\n",
      "\n",
      "Confusion matrix: \n",
      "[[74  0  0  0  0  0  0  0  0  0  0  0  0]\n",
      " [12  1  0  0  0  0  0  0  0  0  0  0  0]\n",
      " [ 4  0  0  0  0  0  0  0  0  0  0  0  0]\n",
      " [ 3  0  0  1  0  0  0  0  0  0  0  0  0]\n",
      " [ 4  0  0  0  0  0  0  0  0  0  0  0  0]\n",
      " [ 8  0  0  0  0  0  0  0  0  0  0  0  0]\n",
      " [ 1  0  0  0  0  0  0  0  0  0  0  0  0]\n",
      " [ 1  0  0  0  0  0  0  0  0  0  0  0  0]\n",
      " [ 2  0  0  0  0  0  0  0  0  1  0  0  0]\n",
      " [11  0  0  0  1  0  0  0  0  2  0  0  1]\n",
      " [ 1  0  0  0  0  0  0  0  0  0  0  0  0]\n",
      " [ 0  1  0  0  0  0  0  0  0  0  0  0  0]\n",
      " [ 7  0  0  0  0  0  0  0  0  0  0  0  0]]\n",
      "AUC: 0.5214\n",
      "Boosting\n",
      "training score : 0.6582 \n",
      "testing score : 0.5588 \n",
      "Testing report :\n",
      "             precision    recall  f1-score   support\n",
      "\n",
      "          1       0.64      0.92      0.75        74\n",
      "          2       0.50      0.08      0.13        13\n",
      "          3       0.00      0.00      0.00         4\n",
      "          4       0.00      0.00      0.00         4\n",
      "          5       0.00      0.00      0.00         4\n",
      "          6       0.00      0.00      0.00         8\n",
      "          7       0.00      0.00      0.00         1\n",
      "          8       0.00      0.00      0.00         1\n",
      "          9       1.00      0.67      0.80         3\n",
      "         10       0.45      0.33      0.38        15\n",
      "         14       0.00      0.00      0.00         1\n",
      "         15       0.00      0.00      0.00         1\n",
      "         16       0.00      0.00      0.00         7\n",
      "\n",
      "avg / total       0.47      0.56      0.48       136\n",
      "\n",
      "Confusion matrix: \n",
      "[[68  1  0  0  3  0  0  0  0  2  0  0  0]\n",
      " [11  1  0  0  1  0  0  0  0  0  0  0  0]\n",
      " [ 0  0  0  0  2  0  0  0  0  1  1  0  0]\n",
      " [ 2  0  0  0  0  0  0  0  0  0  0  1  1]\n",
      " [ 4  0  0  0  0  0  0  0  0  0  0  0  0]\n",
      " [ 7  0  0  0  0  0  0  0  0  1  0  0  0]\n",
      " [ 1  0  0  0  0  0  0  0  0  0  0  0  0]\n",
      " [ 1  0  0  0  0  0  0  0  0  0  0  0  0]\n",
      " [ 1  0  0  0  0  0  0  0  2  0  0  0  0]\n",
      " [ 7  0  0  0  1  0  0  1  0  5  0  1  0]\n",
      " [ 0  0  0  0  1  0  0  0  0  0  0  0  0]\n",
      " [ 1  0  0  0  0  0  0  0  0  0  0  0  0]\n",
      " [ 4  0  0  0  1  0  0  0  0  2  0  0  0]]\n",
      "AUC: 0.5463\n"
     ]
    },
    {
     "data": {
      "image/png": "[encoded data removed]",
      "text/plain": [
       "<matplotlib.figure.Figure at 0x1a575921a20>"
      ]
     },
     "metadata": {},
     "output_type": "display_data"
    }
   ],
   "source": [
    "dt = BaggingClassifier(DecisionTreeClassifier(max_depth = 3, random_state=1)).fit(X_train_scaled, y_train)\n",
    "\n",
    "print(\"Bagging\")\n",
    "print_model_scores(dt)\n",
    "\n",
    "dt = AdaBoostClassifier(DecisionTreeClassifier(max_depth = 3, random_state=1)).fit(X_train_scaled, y_train)\n",
    "\n",
    "print(\"Boosting\")\n",
    "print_model_scores(dt)\n",
    "var_imp_plot(dt)"
   ]
  },
  {
   "cell_type": "markdown",
   "metadata": {},
   "source": [
    "Grid Search on RandomForest to find best estimator"
   ]
  },
  {
   "cell_type": "code",
   "execution_count": 150,
   "metadata": {},
   "outputs": [
    {
     "name": "stdout",
     "output_type": "stream",
     "text": [
      "Best parameters: {'n_estimators': 500}\n",
      "Best cross-validation score: 0.61\n",
      "Best estimator:\n",
      "RandomForestClassifier(bootstrap=True, class_weight=None, criterion='gini',\n",
      "            max_depth=None, max_features='auto', max_leaf_nodes=None,\n",
      "            min_impurity_decrease=0.0, min_impurity_split=None,\n",
      "            min_samples_leaf=1, min_samples_split=2,\n",
      "            min_weight_fraction_leaf=0.0, n_estimators=500, n_jobs=1,\n",
      "            oob_score=False, random_state=1, verbose=0, warm_start=False)\n"
     ]
    }
   ],
   "source": [
    "param_grid = {\"n_estimators\": [50, 200, 500, 700,1000]}\n",
    "\n",
    "grid_search = GridSearchCV(RandomForestClassifier(random_state=1), param_grid,\n",
    "                           cv=StratifiedKFold(5, shuffle = True, random_state = 1))\n",
    "\n",
    "grid_search.fit(X_train_scaled, y_train)\n",
    "\n",
    "print_grid_search(grid_search)"
   ]
  },
  {
   "cell_type": "markdown",
   "metadata": {},
   "source": [
    "Building model using random forest"
   ]
  },
  {
   "cell_type": "code",
   "execution_count": 76,
   "metadata": {},
   "outputs": [
    {
     "name": "stdout",
     "output_type": "stream",
     "text": [
      "training score : 1.0000 \n",
      "testing score : 0.7279 \n",
      "Testing report :\n",
      "             precision    recall  f1-score   support\n",
      "\n",
      "          1       0.70      0.97      0.81        74\n",
      "          2       0.75      0.46      0.57        13\n",
      "          3       0.80      1.00      0.89         4\n",
      "          4       1.00      0.75      0.86         4\n",
      "          5       0.00      0.00      0.00         4\n",
      "          6       1.00      0.25      0.40         8\n",
      "          7       0.00      0.00      0.00         1\n",
      "          8       0.00      0.00      0.00         1\n",
      "          9       1.00      0.67      0.80         3\n",
      "         10       0.77      0.67      0.71        15\n",
      "         14       0.00      0.00      0.00         1\n",
      "         15       0.00      0.00      0.00         1\n",
      "         16       0.00      0.00      0.00         7\n",
      "\n",
      "avg / total       0.67      0.73      0.67       136\n",
      "\n",
      "Confusion matrix: \n",
      "[[72  1  0  0  0  0  0  0  0  1  0  0  0]\n",
      " [ 6  6  0  0  0  0  0  0  0  1  0  0  0]\n",
      " [ 0  0  4  0  0  0  0  0  0  0  0  0  0]\n",
      " [ 1  0  0  3  0  0  0  0  0  0  0  0  0]\n",
      " [ 4  0  0  0  0  0  0  0  0  0  0  0  0]\n",
      " [ 5  0  1  0  0  2  0  0  0  0  0  0  0]\n",
      " [ 1  0  0  0  0  0  0  0  0  0  0  0  0]\n",
      " [ 1  0  0  0  0  0  0  0  0  0  0  0  0]\n",
      " [ 1  0  0  0  0  0  0  0  2  0  0  0  0]\n",
      " [ 5  0  0  0  0  0  0  0  0 10  0  0  0]\n",
      " [ 1  0  0  0  0  0  0  0  0  0  0  0  0]\n",
      " [ 1  0  0  0  0  0  0  0  0  0  0  0  0]\n",
      " [ 5  1  0  0  0  0  0  0  0  1  0  0  0]]\n",
      "AUC: 0.6623\n"
     ]
    },
    {
     "data": {
      "image/png": "[encoded data removed]",
      "text/plain": [
       "<matplotlib.figure.Figure at 0x1fffd112048>"
      ]
     },
     "metadata": {},
     "output_type": "display_data"
    }
   ],
   "source": [
    "rf_clf = RandomForestClassifier(random_state=1,\n",
    "                                n_estimators = 1000).fit(X_train_scaled, y_train)\n",
    "\n",
    "print_model_scores(rf_clf)\n",
    "\n",
    "var_imp_plot(rf_clf)"
   ]
  },
  {
   "cell_type": "markdown",
   "metadata": {},
   "source": [
    "Using Grid Search or CV for Gradientboosting to find best estimator"
   ]
  },
  {
   "cell_type": "code",
   "execution_count": 78,
   "metadata": {},
   "outputs": [
    {
     "name": "stdout",
     "output_type": "stream",
     "text": [
      "Best parameters: {'learning_rate': 0.01, 'max_depth': 3}\n",
      "Best cross-validation score: 0.72\n",
      "Best estimator:\n",
      "GradientBoostingClassifier(criterion='friedman_mse', init=None,\n",
      "              learning_rate=0.01, loss='deviance', max_depth=3,\n",
      "              max_features=None, max_leaf_nodes=None,\n",
      "              min_impurity_decrease=0.0, min_impurity_split=None,\n",
      "              min_samples_leaf=1, min_samples_split=2,\n",
      "              min_weight_fraction_leaf=0.0, n_estimators=100,\n",
      "              presort='auto', random_state=1, subsample=1.0, verbose=0,\n",
      "              warm_start=False)\n",
      "Best parameters: {'learning_rate': 0.01, 'max_depth': 3}\n",
      "Best cross-validation score: 0.72\n",
      "Best estimator:\n",
      "GradientBoostingClassifier(criterion='friedman_mse', init=None,\n",
      "              learning_rate=0.01, loss='deviance', max_depth=3,\n",
      "              max_features=None, max_leaf_nodes=None,\n",
      "              min_impurity_decrease=0.0, min_impurity_split=None,\n",
      "              min_samples_leaf=1, min_samples_split=2,\n",
      "              min_weight_fraction_leaf=0.0, n_estimators=100,\n",
      "              presort='auto', random_state=1, subsample=1.0, verbose=0,\n",
      "              warm_start=False)\n"
     ]
    }
   ],
   "source": [
    "param_grid = {'learning_rate': [0.001, 0.01, 0.1, 1],\n",
    "             'max_depth':[3, 5, 9]}\n",
    "\n",
    "grid_search = GridSearchCV(GradientBoostingClassifier(random_state = 1),\n",
    "                           param_grid, cv=StratifiedKFold(5, shuffle = True, random_state = 1))\n",
    "\n",
    "grid_search.fit(X_train_scaled, y_train)\n",
    "\n",
    "print_grid_search(grid_search)\n",
    "\n"
   ]
  },
  {
   "cell_type": "markdown",
   "metadata": {},
   "source": [
    "Build model using the best model in GradientBoosting"
   ]
  },
  {
   "cell_type": "code",
   "execution_count": 80,
   "metadata": {},
   "outputs": [
    {
     "name": "stdout",
     "output_type": "stream",
     "text": [
      "training score : 0.9525 \n",
      "testing score : 0.7132 \n",
      "Testing report :\n",
      "             precision    recall  f1-score   support\n",
      "\n",
      "          1       0.71      0.95      0.81        74\n",
      "          2       0.75      0.46      0.57        13\n",
      "          3       1.00      1.00      1.00         4\n",
      "          4       0.67      0.50      0.57         4\n",
      "          5       0.50      0.50      0.50         4\n",
      "          6       1.00      0.50      0.67         8\n",
      "          7       0.00      0.00      0.00         1\n",
      "          8       0.00      0.00      0.00         1\n",
      "          9       1.00      0.67      0.80         3\n",
      "         10       0.70      0.47      0.56        15\n",
      "         14       0.00      0.00      0.00         1\n",
      "         15       0.00      0.00      0.00         1\n",
      "         16       0.00      0.00      0.00         7\n",
      "\n",
      "avg / total       0.68      0.71      0.67       136\n",
      "\n",
      "Confusion matrix: \n",
      "[[70  1  0  0  1  0  0  0  0  1  0  0  1]\n",
      " [ 5  6  0  1  0  0  0  0  0  1  0  0  0]\n",
      " [ 0  0  4  0  0  0  0  0  0  0  0  0  0]\n",
      " [ 2  0  0  2  0  0  0  0  0  0  0  0  0]\n",
      " [ 2  0  0  0  2  0  0  0  0  0  0  0  0]\n",
      " [ 3  0  0  0  0  4  0  0  0  0  0  1  0]\n",
      " [ 1  0  0  0  0  0  0  0  0  0  0  0  0]\n",
      " [ 1  0  0  0  0  0  0  0  0  0  0  0  0]\n",
      " [ 0  0  0  0  1  0  0  0  2  0  0  0  0]\n",
      " [ 7  1  0  0  0  0  0  0  0  7  0  0  0]\n",
      " [ 1  0  0  0  0  0  0  0  0  0  0  0  0]\n",
      " [ 1  0  0  0  0  0  0  0  0  0  0  0  0]\n",
      " [ 6  0  0  0  0  0  0  0  0  1  0  0  0]]\n",
      "AUC: 0.6729\n"
     ]
    },
    {
     "data": {
      "image/png": "[encoded data removed]",
      "text/plain": [
       "<matplotlib.figure.Figure at 0x1fff4b70f28>"
      ]
     },
     "metadata": {},
     "output_type": "display_data"
    }
   ],
   "source": [
    "gb_clf = GradientBoostingClassifier(learning_rate = 0.01,max_depth = 3,random_state = 1).fit(X_train_scaled, y_train)\n",
    "\n",
    "print_model_scores(gb_clf)\n",
    "\n",
    "var_imp_plot(gb_clf)"
   ]
  },
  {
   "cell_type": "markdown",
   "metadata": {},
   "source": [
    "Bagging and boosting XGBoost"
   ]
  },
  {
   "cell_type": "code",
   "execution_count": 81,
   "metadata": {},
   "outputs": [
    {
     "name": "stdout",
     "output_type": "stream",
     "text": [
      "training score : 0.9272 \n",
      "testing score : 0.7132 \n",
      "Testing report :\n",
      "             precision    recall  f1-score   support\n",
      "\n",
      "          1       0.69      0.97      0.81        74\n",
      "          2       0.86      0.46      0.60        13\n",
      "          3       0.75      0.75      0.75         4\n",
      "          4       1.00      0.25      0.40         4\n",
      "          5       0.00      0.00      0.00         4\n",
      "          6       0.86      0.75      0.80         8\n",
      "          7       0.00      0.00      0.00         1\n",
      "          8       0.00      0.00      0.00         1\n",
      "          9       1.00      0.67      0.80         3\n",
      "         10       0.70      0.47      0.56        15\n",
      "         14       0.00      0.00      0.00         1\n",
      "         15       0.00      0.00      0.00         1\n",
      "         16       0.00      0.00      0.00         7\n",
      "\n",
      "avg / total       0.66      0.71      0.66       136\n",
      "\n",
      "Confusion matrix: \n",
      "[[72  1  0  0  0  0  0  0  0  1  0  0  0]\n",
      " [ 5  6  0  0  0  1  0  0  0  1  0  0  0]\n",
      " [ 1  0  3  0  0  0  0  0  0  0  0  0  0]\n",
      " [ 3  0  0  1  0  0  0  0  0  0  0  0  0]\n",
      " [ 4  0  0  0  0  0  0  0  0  0  0  0  0]\n",
      " [ 1  0  1  0  0  6  0  0  0  0  0  0  0]\n",
      " [ 1  0  0  0  0  0  0  0  0  0  0  0  0]\n",
      " [ 1  0  0  0  0  0  0  0  0  0  0  0  0]\n",
      " [ 1  0  0  0  0  0  0  0  2  0  0  0  0]\n",
      " [ 7  0  0  0  1  0  0  0  0  7  0  0  0]\n",
      " [ 1  0  0  0  0  0  0  0  0  0  0  0  0]\n",
      " [ 1  0  0  0  0  0  0  0  0  0  0  0  0]\n",
      " [ 6  0  0  0  0  0  0  0  0  1  0  0  0]]\n",
      "AUC: 0.6441\n",
      "training score : 1.0000 \n",
      "testing score : 0.6397 \n",
      "Testing report :\n",
      "             precision    recall  f1-score   support\n",
      "\n",
      "          1       0.65      0.96      0.78        74\n",
      "          2       0.80      0.31      0.44        13\n",
      "          3       1.00      0.50      0.67         4\n",
      "          4       0.00      0.00      0.00         4\n",
      "          5       1.00      0.25      0.40         4\n",
      "          6       0.67      0.25      0.36         8\n",
      "          7       0.00      0.00      0.00         1\n",
      "          8       0.00      0.00      0.00         1\n",
      "          9       1.00      0.67      0.80         3\n",
      "         10       0.56      0.33      0.42        15\n",
      "         14       0.00      0.00      0.00         1\n",
      "         15       0.00      0.00      0.00         1\n",
      "         16       0.00      0.00      0.00         7\n",
      "\n",
      "avg / total       0.61      0.64      0.58       136\n",
      "\n",
      "Confusion matrix: \n",
      "[[71  1  0  0  0  0  0  0  0  0  0  0  2]\n",
      " [ 6  4  0  0  0  1  0  0  0  1  0  1  0]\n",
      " [ 2  0  2  0  0  0  0  0  0  0  0  0  0]\n",
      " [ 4  0  0  0  0  0  0  0  0  0  0  0  0]\n",
      " [ 3  0  0  0  1  0  0  0  0  0  0  0  0]\n",
      " [ 3  0  0  0  0  2  0  0  0  1  0  0  2]\n",
      " [ 1  0  0  0  0  0  0  0  0  0  0  0  0]\n",
      " [ 1  0  0  0  0  0  0  0  0  0  0  0  0]\n",
      " [ 0  0  0  0  0  0  0  0  2  1  0  0  0]\n",
      " [10  0  0  0  0  0  0  0  0  5  0  0  0]\n",
      " [ 1  0  0  0  0  0  0  0  0  0  0  0  0]\n",
      " [ 1  0  0  0  0  0  0  0  0  0  0  0  0]\n",
      " [ 6  0  0  0  0  0  0  0  0  1  0  0  0]]\n",
      "AUC: 0.5987\n"
     ]
    },
    {
     "data": {
      "image/png": "[encoded data removed]",
      "text/plain": [
       "<matplotlib.figure.Figure at 0x1fffc006fd0>"
      ]
     },
     "metadata": {},
     "output_type": "display_data"
    }
   ],
   "source": [
    "gb_clf = BaggingClassifier(GradientBoostingClassifier(learning_rate = 0.01,\n",
    "                                                      max_depth =3 ,random_state = 1)).fit(X_train_scaled, y_train)\n",
    "\n",
    "print_model_scores(gb_clf)\n",
    "\n",
    "gb_clf = AdaBoostClassifier(GradientBoostingClassifier(learning_rate = 0.01,\n",
    "                                                       max_depth = 3,random_state = 1)).fit(X_train_scaled, y_train)\n",
    "\n",
    "print_model_scores(gb_clf)\n",
    "var_imp_plot(gb_clf)"
   ]
  },
  {
   "cell_type": "code",
   "execution_count": 87,
   "metadata": {},
   "outputs": [
    {
     "name": "stdout",
     "output_type": "stream",
     "text": [
      "Best parameters: {'n_neighbors': 5}\n",
      "Best cross-validation score: 0.60\n",
      "Best estimator:\n",
      "KNeighborsClassifier(algorithm='auto', leaf_size=30, metric='minkowski',\n",
      "           metric_params=None, n_jobs=1, n_neighbors=5, p=2,\n",
      "           weights='uniform')\n",
      "CV results: {'mean_fit_time': array([0.0021821 , 0.00198207, 0.00198226, 0.00198293, 0.0019835 ]), 'std_fit_time': array([2.42576234e-04, 2.93012457e-06, 1.71528871e-06, 1.19685177e-06,\n",
      "       1.16800773e-07]), 'mean_score_time': array([0.00883536, 0.00814357, 0.00814352, 0.00813475, 0.00824299]), 'std_score_time': array([0.00118674, 0.0002362 , 0.00023645, 0.00050619, 0.00039034]), 'param_n_neighbors': masked_array(data=[1, 2, 4, 5, 10],\n",
      "             mask=[False, False, False, False, False],\n",
      "       fill_value='?',\n",
      "            dtype=object), 'params': [{'n_neighbors': 1}, {'n_neighbors': 2}, {'n_neighbors': 4}, {'n_neighbors': 5}, {'n_neighbors': 10}], 'split0_test_score': array([0.60294118, 0.58823529, 0.60294118, 0.60294118, 0.55882353]), 'split1_test_score': array([0.578125, 0.546875, 0.546875, 0.59375 , 0.546875]), 'split2_test_score': array([0.55      , 0.58333333, 0.6       , 0.6       , 0.6       ]), 'split3_test_score': array([0.546875, 0.578125, 0.5625  , 0.578125, 0.53125 ]), 'split4_test_score': array([0.56666667, 0.63333333, 0.63333333, 0.61666667, 0.58333333]), 'mean_test_score': array([0.56962025, 0.58544304, 0.58860759, 0.59810127, 0.56329114]), 'std_test_score': array([0.02081103, 0.02738804, 0.0306505 , 0.01248298, 0.02447312]), 'rank_test_score': array([4, 3, 2, 1, 5]), 'split0_train_score': array([1.        , 0.67741935, 0.64112903, 0.64919355, 0.56451613]), 'split1_train_score': array([1.        , 0.69444444, 0.63095238, 0.63888889, 0.56349206]), 'split2_train_score': array([1.        , 0.6953125 , 0.6640625 , 0.640625  , 0.55859375]), 'split3_train_score': array([1.        , 0.69047619, 0.65873016, 0.67063492, 0.59920635]), 'split4_train_score': array([1.        , 0.69921875, 0.640625  , 0.66015625, 0.57421875]), 'mean_train_score': array([1.        , 0.69137425, 0.64709981, 0.65189972, 0.57200541]), 'std_train_score': array([0.        , 0.00751023, 0.01233945, 0.01202416, 0.01451364])}\n"
     ]
    }
   ],
   "source": [
    "knn_clf = KNeighborsClassifier()\n",
    "\n",
    "param_grid = {'n_neighbors':[1, 2, 4, 5, 10]}\n",
    "\n",
    "grid_search = GridSearchCV(knn_clf , param_grid, cv = StratifiedKFold(5, shuffle = True, random_state = 1),\n",
    "                               scoring = 'f1_micro',return_train_score=True)\n",
    "grid_search.fit(X_train_scaled, y_train)\n",
    "\n",
    "print_grid_search(grid_search)\n",
    "print(\"CV results: \", end=\"\")\n",
    "print(grid_search.cv_results_)"
   ]
  },
  {
   "cell_type": "markdown",
   "metadata": {},
   "source": [
    "Build model using the best model in KNN"
   ]
  },
  {
   "cell_type": "code",
   "execution_count": 88,
   "metadata": {},
   "outputs": [
    {
     "name": "stdout",
     "output_type": "stream",
     "text": [
      "training score : 0.6582 \n",
      "testing score : 0.5588 \n",
      "Testing report :\n",
      "             precision    recall  f1-score   support\n",
      "\n",
      "          1       0.57      0.95      0.71        74\n",
      "          2       0.00      0.00      0.00        13\n",
      "          3       1.00      0.75      0.86         4\n",
      "          4       1.00      0.25      0.40         4\n",
      "          5       0.00      0.00      0.00         4\n",
      "          6       0.00      0.00      0.00         8\n",
      "          7       0.00      0.00      0.00         1\n",
      "          8       0.00      0.00      0.00         1\n",
      "          9       0.00      0.00      0.00         3\n",
      "         10       1.00      0.13      0.24        15\n",
      "         14       0.00      0.00      0.00         1\n",
      "         15       0.00      0.00      0.00         1\n",
      "         16       0.00      0.00      0.00         7\n",
      "\n",
      "avg / total       0.48      0.56      0.45       136\n",
      "\n",
      "Confusion matrix: \n",
      "[[70  2  0  0  0  2  0  0  0  0  0  0  0]\n",
      " [13  0  0  0  0  0  0  0  0  0  0  0  0]\n",
      " [ 0  0  3  0  0  1  0  0  0  0  0  0  0]\n",
      " [ 3  0  0  1  0  0  0  0  0  0  0  0  0]\n",
      " [ 4  0  0  0  0  0  0  0  0  0  0  0  0]\n",
      " [ 8  0  0  0  0  0  0  0  0  0  0  0  0]\n",
      " [ 1  0  0  0  0  0  0  0  0  0  0  0  0]\n",
      " [ 1  0  0  0  0  0  0  0  0  0  0  0  0]\n",
      " [ 2  1  0  0  0  0  0  0  0  0  0  0  0]\n",
      " [11  0  0  0  0  2  0  0  0  2  0  0  0]\n",
      " [ 1  0  0  0  0  0  0  0  0  0  0  0  0]\n",
      " [ 1  0  0  0  0  0  0  0  0  0  0  0  0]\n",
      " [ 7  0  0  0  0  0  0  0  0  0  0  0  0]]\n",
      "AUC: 0.5453\n"
     ]
    }
   ],
   "source": [
    "knn_clf = KNeighborsClassifier(n_neighbors = 5).fit(X_train_scaled, y_train)\n",
    "\n",
    "print_model_scores(model=knn_clf)"
   ]
  },
  {
   "cell_type": "code",
   "execution_count": 89,
   "metadata": {},
   "outputs": [
    {
     "name": "stdout",
     "output_type": "stream",
     "text": [
      "training score : 0.6677 \n",
      "testing score : 0.5809 \n",
      "Testing report :\n",
      "             precision    recall  f1-score   support\n",
      "\n",
      "          1       0.57      0.96      0.72        74\n",
      "          2       0.00      0.00      0.00        13\n",
      "          3       1.00      0.75      0.86         4\n",
      "          4       1.00      0.25      0.40         4\n",
      "          5       0.00      0.00      0.00         4\n",
      "          6       0.00      0.00      0.00         8\n",
      "          7       0.00      0.00      0.00         1\n",
      "          8       0.00      0.00      0.00         1\n",
      "          9       1.00      0.33      0.50         3\n",
      "         10       1.00      0.20      0.33        15\n",
      "         14       0.00      0.00      0.00         1\n",
      "         15       0.00      0.00      0.00         1\n",
      "         16       0.00      0.00      0.00         7\n",
      "\n",
      "avg / total       0.50      0.58      0.47       136\n",
      "\n",
      "Confusion matrix: \n",
      "[[71  1  0  0  0  2  0  0  0  0  0  0  0]\n",
      " [13  0  0  0  0  0  0  0  0  0  0  0  0]\n",
      " [ 1  0  3  0  0  0  0  0  0  0  0  0  0]\n",
      " [ 3  0  0  1  0  0  0  0  0  0  0  0  0]\n",
      " [ 4  0  0  0  0  0  0  0  0  0  0  0  0]\n",
      " [ 8  0  0  0  0  0  0  0  0  0  0  0  0]\n",
      " [ 1  0  0  0  0  0  0  0  0  0  0  0  0]\n",
      " [ 1  0  0  0  0  0  0  0  0  0  0  0  0]\n",
      " [ 2  0  0  0  0  0  0  0  1  0  0  0  0]\n",
      " [11  0  0  0  0  1  0  0  0  3  0  0  0]\n",
      " [ 1  0  0  0  0  0  0  0  0  0  0  0  0]\n",
      " [ 1  0  0  0  0  0  0  0  0  0  0  0  0]\n",
      " [ 7  0  0  0  0  0  0  0  0  0  0  0  0]]\n",
      "AUC: 0.5618\n"
     ]
    }
   ],
   "source": [
    "knn_clf = BaggingClassifier(KNeighborsClassifier(n_neighbors = 5)).fit(X_train_scaled, y_train)\n",
    "\n",
    "print_model_scores(model=knn_clf)"
   ]
  },
  {
   "cell_type": "markdown",
   "metadata": {},
   "source": [
    "As we can see most of the models here are overfitting the training data. This is also a multiclass classification problem so we have taken AUC as the measure to select few best models. We can reduce a little complexity on those data to give a goodfit instead of the overfit which we have now. The best models considering AUC as the scoring criteria are as follows:  \n",
    "1) SVC with linear and rbf kernels (AUC ~69 and 69)   \n",
    "2) GradientBoosting without Bagging and Boosting (AUC ~ 67 )    \n",
    "3) Decision tree with Bagging (AUC ~ 66)    "
   ]
  },
  {
   "cell_type": "code",
   "execution_count": 96,
   "metadata": {},
   "outputs": [
    {
     "name": "stdout",
     "output_type": "stream",
     "text": [
      "Variance lost is: 92.20877151655958%\n",
      "Sum of explained variance is: 99.99791220204094%\n"
     ]
    }
   ],
   "source": [
    "pca = decomposition.PCA(n_components=150)\n",
    "X_pca = pca.fit_transform(X)\n",
    "\n",
    "X_pca_inv = pca.inverse_transform(X_pca)\n",
    "\n",
    "print(\"Variance lost is: \",end=\"\")\n",
    "print(np.mean(np.sum(np.square(X_pca_inv - X), axis=1))*100, end=\"\")\n",
    "print(\"%\")\n",
    "\n",
    "print(\"Sum of explained variance is: \", end=\"\")\n",
    "print(np.sum(pca.explained_variance_ratio_)*100,end=\"\")\n",
    "print(\"%\")"
   ]
  },
  {
   "cell_type": "markdown",
   "metadata": {},
   "source": [
    "Splitting the train and test set after pca for model building"
   ]
  },
  {
   "cell_type": "code",
   "execution_count": 97,
   "metadata": {},
   "outputs": [],
   "source": [
    "X_train_pca, X_test_pca, y_train, y_test = train_test_split(X_pca, y, test_size=0.3, random_state=1, stratify = y)"
   ]
  },
  {
   "cell_type": "markdown",
   "metadata": {},
   "source": [
    "Grid Seeach on SVC linear kernel to find best parameters"
   ]
  },
  {
   "cell_type": "code",
   "execution_count": 98,
   "metadata": {},
   "outputs": [
    {
     "name": "stdout",
     "output_type": "stream",
     "text": [
      "Best parameters: {'C': 0.1}\n",
      "Best cross-validation score: 0.65\n",
      "Best estimator:\n",
      "SVC(C=0.1, cache_size=200, class_weight=None, coef0=0.0,\n",
      "  decision_function_shape='ovr', degree=3, gamma='auto', kernel='linear',\n",
      "  max_iter=-1, probability=False, random_state=1, shrinking=True,\n",
      "  tol=0.001, verbose=False)\n"
     ]
    }
   ],
   "source": [
    "param_grid = {'C': [0.1, 1, 10, 100, 200, 500]}\n",
    "\n",
    "grid_search = GridSearchCV(SVC(kernel = 'linear', random_state = 1),\n",
    "                           param_grid, cv=StratifiedKFold(5, shuffle = True, random_state = 1))\n",
    "\n",
    "grid_search.fit(X_train_pca, y_train)\n",
    "\n",
    "print_grid_search(grid_search)"
   ]
  },
  {
   "cell_type": "markdown",
   "metadata": {},
   "source": [
    "Building SVC using best parameters"
   ]
  },
  {
   "cell_type": "code",
   "execution_count": 99,
   "metadata": {},
   "outputs": [
    {
     "name": "stdout",
     "output_type": "stream",
     "text": [
      "training score : 1.0000 \n",
      "testing score : 0.6544 \n",
      "Testing report :\n",
      "             precision    recall  f1-score   support\n",
      "\n",
      "          1       0.71      0.88      0.79        74\n",
      "          2       0.43      0.23      0.30        13\n",
      "          3       1.00      1.00      1.00         4\n",
      "          4       0.43      0.75      0.55         4\n",
      "          5       0.00      0.00      0.00         4\n",
      "          6       0.57      0.50      0.53         8\n",
      "          7       0.00      0.00      0.00         1\n",
      "          8       0.00      0.00      0.00         1\n",
      "          9       1.00      1.00      1.00         3\n",
      "         10       0.67      0.40      0.50        15\n",
      "         14       0.00      0.00      0.00         1\n",
      "         15       1.00      1.00      1.00         1\n",
      "         16       0.00      0.00      0.00         7\n",
      "\n",
      "avg / total       0.61      0.65      0.62       136\n",
      "\n",
      "Confusion matrix: \n",
      "[[65  2  0  2  0  1  0  0  0  1  0  0  3]\n",
      " [ 6  3  0  0  0  1  0  0  0  1  0  0  2]\n",
      " [ 0  0  4  0  0  0  0  0  0  0  0  0  0]\n",
      " [ 1  0  0  3  0  0  0  0  0  0  0  0  0]\n",
      " [ 1  2  0  1  0  0  0  0  0  0  0  0  0]\n",
      " [ 4  0  0  0  0  4  0  0  0  0  0  0  0]\n",
      " [ 1  0  0  0  0  0  0  0  0  0  0  0  0]\n",
      " [ 1  0  0  0  0  0  0  0  0  0  0  0  0]\n",
      " [ 0  0  0  0  0  0  0  0  3  0  0  0  0]\n",
      " [ 6  0  0  1  0  1  0  0  0  6  1  0  0]\n",
      " [ 0  0  0  0  0  0  0  0  0  0  0  0  1]\n",
      " [ 0  0  0  0  0  0  0  0  0  0  0  1  0]\n",
      " [ 6  0  0  0  0  0  0  0  0  1  0  0  0]]\n",
      "AUC: 0.6990\n"
     ]
    }
   ],
   "source": [
    "svc = SVC(C=0.1, kernel='linear', random_state=1).fit(X_train_pca, y_train)\n",
    "\n",
    "print_model_scores(model = svc, X_test_scaled=X_test_pca, X_train_scaled = X_train_pca)"
   ]
  },
  {
   "cell_type": "markdown",
   "metadata": {},
   "source": [
    "Grid search on SVC with rbf kernel to find best parameters"
   ]
  },
  {
   "cell_type": "code",
   "execution_count": 100,
   "metadata": {},
   "outputs": [
    {
     "name": "stdout",
     "output_type": "stream",
     "text": [
      "Best parameters: {'C': 10, 'gamma': 0.0001}\n",
      "Best cross-validation score: 0.54\n",
      "Best estimator:\n",
      "SVC(C=10, cache_size=200, class_weight=None, coef0=0.0,\n",
      "  decision_function_shape='ovr', degree=3, gamma=0.0001, kernel='rbf',\n",
      "  max_iter=-1, probability=False, random_state=1, shrinking=True,\n",
      "  tol=0.001, verbose=False)\n"
     ]
    }
   ],
   "source": [
    "param_grid = {'C': [1, 10, 100, 200, 400, 500],\n",
    "              'gamma': [0.0001, 0.005, 0.001, 0.01]}\n",
    "\n",
    "grid_search = GridSearchCV(SVC(kernel = 'rbf', random_state = 1),\n",
    "                           param_grid, cv=StratifiedKFold(5, shuffle = True, random_state = 1))\n",
    "\n",
    "grid_search.fit(X_train_pca, y_train)\n",
    "\n",
    "print_grid_search(grid_search)"
   ]
  },
  {
   "cell_type": "markdown",
   "metadata": {},
   "source": [
    "Building SVC using best parameters"
   ]
  },
  {
   "cell_type": "code",
   "execution_count": 101,
   "metadata": {},
   "outputs": [
    {
     "name": "stdout",
     "output_type": "stream",
     "text": [
      "training score : 1.0000 \n",
      "testing score : 0.5515 \n",
      "Testing report :\n",
      "             precision    recall  f1-score   support\n",
      "\n",
      "          1       0.55      1.00      0.71        74\n",
      "          2       0.00      0.00      0.00        13\n",
      "          3       0.00      0.00      0.00         4\n",
      "          4       0.00      0.00      0.00         4\n",
      "          5       0.00      0.00      0.00         4\n",
      "          6       0.00      0.00      0.00         8\n",
      "          7       0.00      0.00      0.00         1\n",
      "          8       0.00      0.00      0.00         1\n",
      "          9       0.00      0.00      0.00         3\n",
      "         10       1.00      0.07      0.12        15\n",
      "         14       0.00      0.00      0.00         1\n",
      "         15       0.00      0.00      0.00         1\n",
      "         16       0.00      0.00      0.00         7\n",
      "\n",
      "avg / total       0.41      0.55      0.40       136\n",
      "\n",
      "Confusion matrix: \n",
      "[[74  0  0  0  0  0  0  0  0  0  0  0  0]\n",
      " [13  0  0  0  0  0  0  0  0  0  0  0  0]\n",
      " [ 4  0  0  0  0  0  0  0  0  0  0  0  0]\n",
      " [ 4  0  0  0  0  0  0  0  0  0  0  0  0]\n",
      " [ 4  0  0  0  0  0  0  0  0  0  0  0  0]\n",
      " [ 8  0  0  0  0  0  0  0  0  0  0  0  0]\n",
      " [ 1  0  0  0  0  0  0  0  0  0  0  0  0]\n",
      " [ 1  0  0  0  0  0  0  0  0  0  0  0  0]\n",
      " [ 3  0  0  0  0  0  0  0  0  0  0  0  0]\n",
      " [14  0  0  0  0  0  0  0  0  1  0  0  0]\n",
      " [ 1  0  0  0  0  0  0  0  0  0  0  0  0]\n",
      " [ 1  0  0  0  0  0  0  0  0  0  0  0  0]\n",
      " [ 7  0  0  0  0  0  0  0  0  0  0  0  0]]\n",
      "AUC: 0.5032\n"
     ]
    }
   ],
   "source": [
    "svc = SVC(C=10, gamma=0.0001, kernel='rbf', random_state=1).fit(X_train_pca, y_train)\n",
    "\n",
    "print_model_scores(model = svc, X_test_scaled=X_test_pca, X_train_scaled=X_train_pca)"
   ]
  },
  {
   "cell_type": "markdown",
   "metadata": {},
   "source": [
    "Grid Search on Decision Tree to find best parameters"
   ]
  },
  {
   "cell_type": "code",
   "execution_count": 102,
   "metadata": {},
   "outputs": [
    {
     "name": "stdout",
     "output_type": "stream",
     "text": [
      "Best parameters: {'max_depth': 4}\n",
      "Best cross-validation score: 0.59\n",
      "Best estimator:\n",
      "DecisionTreeClassifier(class_weight=None, criterion='gini', max_depth=4,\n",
      "            max_features=None, max_leaf_nodes=None,\n",
      "            min_impurity_decrease=0.0, min_impurity_split=None,\n",
      "            min_samples_leaf=1, min_samples_split=2,\n",
      "            min_weight_fraction_leaf=0.0, presort=False, random_state=1,\n",
      "            splitter='best')\n"
     ]
    }
   ],
   "source": [
    "param_grid = {'max_depth': np.arange(3, 10)}\n",
    "\n",
    "grid_search = GridSearchCV(DecisionTreeClassifier(random_state=1),\n",
    "                           param_grid, cv=StratifiedKFold(5, shuffle = True, random_state = 1))\n",
    "\n",
    "grid_search.fit(X_train_pca, y_train)\n",
    "\n",
    "print_grid_search(grid_search)"
   ]
  },
  {
   "cell_type": "markdown",
   "metadata": {},
   "source": [
    "Training Decision tree using the best parameters"
   ]
  },
  {
   "cell_type": "code",
   "execution_count": 103,
   "metadata": {},
   "outputs": [
    {
     "name": "stdout",
     "output_type": "stream",
     "text": [
      "training score : 0.7310 \n",
      "testing score : 0.5147 \n",
      "Testing report :\n",
      "             precision    recall  f1-score   support\n",
      "\n",
      "          1       0.59      0.85      0.70        74\n",
      "          2       0.36      0.31      0.33        13\n",
      "          3       0.00      0.00      0.00         4\n",
      "          4       0.00      0.00      0.00         4\n",
      "          5       0.00      0.00      0.00         4\n",
      "          6       0.00      0.00      0.00         8\n",
      "          7       0.00      0.00      0.00         1\n",
      "          8       0.00      0.00      0.00         1\n",
      "          9       1.00      0.33      0.50         3\n",
      "         10       0.22      0.13      0.17        15\n",
      "         14       0.00      0.00      0.00         1\n",
      "         15       0.00      0.00      0.00         1\n",
      "         16       0.00      0.00      0.00         7\n",
      "\n",
      "avg / total       0.40      0.51      0.44       136\n",
      "\n",
      "Confusion matrix: \n",
      "[[63  3  3  1  0  0  0  0  0  4  0  0  0]\n",
      " [ 7  4  0  1  0  0  0  0  0  1  0  0  0]\n",
      " [ 4  0  0  0  0  0  0  0  0  0  0  0  0]\n",
      " [ 4  0  0  0  0  0  0  0  0  0  0  0  0]\n",
      " [ 2  2  0  0  0  0  0  0  0  0  0  0  0]\n",
      " [ 5  1  0  0  0  0  0  0  0  2  0  0  0]\n",
      " [ 1  0  0  0  0  0  0  0  0  0  0  0  0]\n",
      " [ 1  0  0  0  0  0  0  0  0  0  0  0  0]\n",
      " [ 2  0  0  0  0  0  0  0  1  0  0  0  0]\n",
      " [10  1  0  0  0  0  0  0  0  2  0  0  2]\n",
      " [ 0  0  0  0  0  0  0  0  0  0  0  0  1]\n",
      " [ 1  0  0  0  0  0  0  0  0  0  0  0  0]\n",
      " [ 7  0  0  0  0  0  0  0  0  0  0  0  0]]\n",
      "AUC: 0.5285\n"
     ]
    }
   ],
   "source": [
    "dt = DecisionTreeClassifier(max_depth = 4, random_state=1).fit(X_train_pca, y_train)\n",
    "\n",
    "print_model_scores(model = dt, X_test_scaled=X_test_pca, X_train_scaled = X_train_pca)"
   ]
  },
  {
   "cell_type": "markdown",
   "metadata": {},
   "source": [
    "Training Decision Tree using PCA"
   ]
  },
  {
   "cell_type": "code",
   "execution_count": 104,
   "metadata": {},
   "outputs": [
    {
     "name": "stdout",
     "output_type": "stream",
     "text": [
      "training score : 0.7405 \n",
      "testing score : 0.5368 \n",
      "Testing report :\n",
      "             precision    recall  f1-score   support\n",
      "\n",
      "          1       0.57      0.91      0.70        74\n",
      "          2       0.38      0.23      0.29        13\n",
      "          3       1.00      0.25      0.40         4\n",
      "          4       0.00      0.00      0.00         4\n",
      "          5       0.00      0.00      0.00         4\n",
      "          6       0.00      0.00      0.00         8\n",
      "          7       0.00      0.00      0.00         1\n",
      "          8       0.00      0.00      0.00         1\n",
      "          9       0.00      0.00      0.00         3\n",
      "         10       0.22      0.13      0.17        15\n",
      "         14       0.00      0.00      0.00         1\n",
      "         15       0.00      0.00      0.00         1\n",
      "         16       0.00      0.00      0.00         7\n",
      "\n",
      "avg / total       0.40      0.54      0.44       136\n",
      "\n",
      "Confusion matrix: \n",
      "[[67  3  0  1  0  0  0  0  0  3  0  0  0]\n",
      " [10  3  0  0  0  0  0  0  0  0  0  0  0]\n",
      " [ 3  0  1  0  0  0  0  0  0  0  0  0  0]\n",
      " [ 4  0  0  0  0  0  0  0  0  0  0  0  0]\n",
      " [ 4  0  0  0  0  0  0  0  0  0  0  0  0]\n",
      " [ 8  0  0  0  0  0  0  0  0  0  0  0  0]\n",
      " [ 1  0  0  0  0  0  0  0  0  0  0  0  0]\n",
      " [ 1  0  0  0  0  0  0  0  0  0  0  0  0]\n",
      " [ 0  0  0  0  0  0  0  0  0  3  0  0  0]\n",
      " [12  1  0  0  0  0  0  0  0  2  0  0  0]\n",
      " [ 0  1  0  0  0  0  0  0  0  0  0  0  0]\n",
      " [ 1  0  0  0  0  0  0  0  0  0  0  0  0]\n",
      " [ 6  0  0  0  0  0  0  0  0  1  0  0  0]]\n",
      "AUC: 0.5233\n"
     ]
    }
   ],
   "source": [
    "dt = BaggingClassifier(DecisionTreeClassifier(max_depth = 4, random_state=1)).fit(X_train_pca, y_train)\n",
    "\n",
    "print_model_scores(model = dt, X_test_scaled=X_test_pca, X_train_scaled = X_train_pca)"
   ]
  },
  {
   "cell_type": "markdown",
   "metadata": {},
   "source": [
    "Grid Search on GradientBoost to Find Best Parameters"
   ]
  },
  {
   "cell_type": "code",
   "execution_count": 105,
   "metadata": {},
   "outputs": [
    {
     "name": "stdout",
     "output_type": "stream",
     "text": [
      "Best parameters: {'learning_rate': 0.1, 'max_depth': 3}\n",
      "Best cross-validation score: 0.59\n",
      "Best estimator:\n",
      "GradientBoostingClassifier(criterion='friedman_mse', init=None,\n",
      "              learning_rate=0.1, loss='deviance', max_depth=3,\n",
      "              max_features=None, max_leaf_nodes=None,\n",
      "              min_impurity_decrease=0.0, min_impurity_split=None,\n",
      "              min_samples_leaf=1, min_samples_split=2,\n",
      "              min_weight_fraction_leaf=0.0, n_estimators=100,\n",
      "              presort='auto', random_state=1, subsample=1.0, verbose=0,\n",
      "              warm_start=False)\n"
     ]
    }
   ],
   "source": [
    "param_grid = {'learning_rate': [0.001, 0.01, 0.1, 1],\n",
    "             'max_depth':[3, 5, 9]}\n",
    "\n",
    "grid_search = GridSearchCV(GradientBoostingClassifier(random_state = 1),\n",
    "                           param_grid, cv=StratifiedKFold(5, shuffle = True, random_state = 1))\n",
    "\n",
    "grid_search.fit(X_train_pca, y_train)\n",
    "\n",
    "print_grid_search(grid_search)"
   ]
  },
  {
   "cell_type": "markdown",
   "metadata": {},
   "source": [
    "Training Gradient Boosting using AdaBoost"
   ]
  },
  {
   "cell_type": "code",
   "execution_count": null,
   "metadata": {},
   "outputs": [],
   "source": [
    "gb_clf = AdaBoostClassifier(GradientBoostingClassifier(learning_rate = 0.1,max_depth = 5,random_state = 1)).fit(X_train_pca, y_train)\n",
    "\n",
    "print_model_scores(model = dt, X_test_scaled = X_test_pca, X_train_scaled = X_train_pca)"
   ]
  },
  {
   "cell_type": "markdown",
   "metadata": {},
   "source": [
    "Summary   \n",
    "Heart rate undoubtedly won in all the models being the most important variable   \n",
    "Few other important variables are related to the R' wave, amplitudes in few channels (DII, V6) seeming the most important, age,  weight and QRSA ratio. \n",
    "In modeling, AUC was used to determine the model efficiency because there is a class imbalance issue here and accuracy would not  be a good measure to calculate.  \n",
    "As we can see after pca any model did not perform better than before even though the variance was being captured. \n",
    "Dimensionality reduction did not help \n",
    "Support Vector Classifier with a linear kernel (C =1) or RBF kernel work well with AUC 71% but, bagging or boosting did not help there. \n",
    "Bagging and Boosting did not help \n",
    "Decision tree worked well but bagging boosted it's performace with AUC 71%  \n",
    "Bagging and Boosting helped  \n",
    "Random Forests did just fine with AUC 68%  \n",
    "Gradient boosting worked well with bagging and boosting giving AUC approximately 70%  \n",
    "Bagging and Boosting helped  \n",
    "All the other models did not work well  \n",
    "\n",
    "Finally, bagging and boosting may not work always, dimensionality reduction may not help always\n",
    "We decide to go with the Decision tree model using bagging or SVC classifier using a linear kernel if we had to drill down."
   ]
  },
  {
   "cell_type": "code",
   "execution_count": null,
   "metadata": {},
   "outputs": [],
   "source": []
  },
  {
   "cell_type": "code",
   "execution_count": null,
   "metadata": {},
   "outputs": [],
   "source": []
  }
 ],
 "metadata": {
  "kernelspec": {
   "display_name": "Python 3",
   "language": "python",
   "name": "python3"
  },
  "language_info": {
   "codemirror_mode": {
    "name": "ipython",
    "version": 3
   },
   "file_extension": ".py",
   "mimetype": "text/x-python",
   "name": "python",
   "nbconvert_exporter": "python",
   "pygments_lexer": "ipython3",
   "version": "3.6.4"
  }
 },
 "nbformat": 4,
 "nbformat_minor": 2
}
